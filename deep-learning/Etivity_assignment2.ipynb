{
  "nbformat": 4,
  "nbformat_minor": 0,
  "metadata": {
    "colab": {
      "name": "Etivity_assignment2.ipynb",
      "provenance": [],
      "collapsed_sections": [],
      "include_colab_link": true
    },
    "kernelspec": {
      "name": "python3",
      "display_name": "Python 3"
    },
    "accelerator": "GPU",
    "widgets": {
      "application/vnd.jupyter.widget-state+json": {
        "60907296133b407caa2ee1c58e80f255": {
          "model_module": "@jupyter-widgets/controls",
          "model_name": "HBoxModel",
          "model_module_version": "1.5.0",
          "state": {
            "_view_name": "HBoxView",
            "_dom_classes": [],
            "_model_name": "HBoxModel",
            "_view_module": "@jupyter-widgets/controls",
            "_model_module_version": "1.5.0",
            "_view_count": null,
            "_view_module_version": "1.5.0",
            "box_style": "",
            "layout": "IPY_MODEL_a12d0e3bd2774bd98371b77801cba497",
            "_model_module": "@jupyter-widgets/controls",
            "children": [
              "IPY_MODEL_6a05d0f74ca1429090a7e675f5289ee0",
              "IPY_MODEL_133132f80fc740c2b49b28bf6006d47a",
              "IPY_MODEL_9e4eef4af7904c718c31e185d2fb6c5f"
            ]
          }
        },
        "a12d0e3bd2774bd98371b77801cba497": {
          "model_module": "@jupyter-widgets/base",
          "model_name": "LayoutModel",
          "model_module_version": "1.2.0",
          "state": {
            "_view_name": "LayoutView",
            "grid_template_rows": null,
            "right": null,
            "justify_content": null,
            "_view_module": "@jupyter-widgets/base",
            "overflow": null,
            "_model_module_version": "1.2.0",
            "_view_count": null,
            "flex_flow": null,
            "width": null,
            "min_width": null,
            "border": null,
            "align_items": null,
            "bottom": null,
            "_model_module": "@jupyter-widgets/base",
            "top": null,
            "grid_column": null,
            "overflow_y": null,
            "overflow_x": null,
            "grid_auto_flow": null,
            "grid_area": null,
            "grid_template_columns": null,
            "flex": null,
            "_model_name": "LayoutModel",
            "justify_items": null,
            "grid_row": null,
            "max_height": null,
            "align_content": null,
            "visibility": null,
            "align_self": null,
            "height": null,
            "min_height": null,
            "padding": null,
            "grid_auto_rows": null,
            "grid_gap": null,
            "max_width": null,
            "order": null,
            "_view_module_version": "1.2.0",
            "grid_template_areas": null,
            "object_position": null,
            "object_fit": null,
            "grid_auto_columns": null,
            "margin": null,
            "display": null,
            "left": null
          }
        },
        "6a05d0f74ca1429090a7e675f5289ee0": {
          "model_module": "@jupyter-widgets/controls",
          "model_name": "HTMLModel",
          "model_module_version": "1.5.0",
          "state": {
            "_view_name": "HTMLView",
            "style": "IPY_MODEL_497fccf7af144ab98a51f5e75f78600b",
            "_dom_classes": [],
            "description": "",
            "_model_name": "HTMLModel",
            "placeholder": "​",
            "_view_module": "@jupyter-widgets/controls",
            "_model_module_version": "1.5.0",
            "value": "Dl Completed...: 100%",
            "_view_count": null,
            "_view_module_version": "1.5.0",
            "description_tooltip": null,
            "_model_module": "@jupyter-widgets/controls",
            "layout": "IPY_MODEL_48b744e9203d4c098f763d207017e020"
          }
        },
        "133132f80fc740c2b49b28bf6006d47a": {
          "model_module": "@jupyter-widgets/controls",
          "model_name": "FloatProgressModel",
          "model_module_version": "1.5.0",
          "state": {
            "_view_name": "ProgressView",
            "style": "IPY_MODEL_94c84a5691144118a5d9ff1d01d8f6b7",
            "_dom_classes": [],
            "description": "",
            "_model_name": "FloatProgressModel",
            "bar_style": "success",
            "max": 1,
            "_view_module": "@jupyter-widgets/controls",
            "_model_module_version": "1.5.0",
            "value": 1,
            "_view_count": null,
            "_view_module_version": "1.5.0",
            "orientation": "horizontal",
            "min": 0,
            "description_tooltip": null,
            "_model_module": "@jupyter-widgets/controls",
            "layout": "IPY_MODEL_4e2455cbc85a41fbba7f179244901da2"
          }
        },
        "9e4eef4af7904c718c31e185d2fb6c5f": {
          "model_module": "@jupyter-widgets/controls",
          "model_name": "HTMLModel",
          "model_module_version": "1.5.0",
          "state": {
            "_view_name": "HTMLView",
            "style": "IPY_MODEL_8e9c042a0e8247819a466e8a26a18cc5",
            "_dom_classes": [],
            "description": "",
            "_model_name": "HTMLModel",
            "placeholder": "​",
            "_view_module": "@jupyter-widgets/controls",
            "_model_module_version": "1.5.0",
            "value": " 1/1 [00:06&lt;00:00,  4.27s/ url]",
            "_view_count": null,
            "_view_module_version": "1.5.0",
            "description_tooltip": null,
            "_model_module": "@jupyter-widgets/controls",
            "layout": "IPY_MODEL_ce345d05c1694ed283bd75b4e5d69290"
          }
        },
        "497fccf7af144ab98a51f5e75f78600b": {
          "model_module": "@jupyter-widgets/controls",
          "model_name": "DescriptionStyleModel",
          "model_module_version": "1.5.0",
          "state": {
            "_view_name": "StyleView",
            "_model_name": "DescriptionStyleModel",
            "description_width": "",
            "_view_module": "@jupyter-widgets/base",
            "_model_module_version": "1.5.0",
            "_view_count": null,
            "_view_module_version": "1.2.0",
            "_model_module": "@jupyter-widgets/controls"
          }
        },
        "48b744e9203d4c098f763d207017e020": {
          "model_module": "@jupyter-widgets/base",
          "model_name": "LayoutModel",
          "model_module_version": "1.2.0",
          "state": {
            "_view_name": "LayoutView",
            "grid_template_rows": null,
            "right": null,
            "justify_content": null,
            "_view_module": "@jupyter-widgets/base",
            "overflow": null,
            "_model_module_version": "1.2.0",
            "_view_count": null,
            "flex_flow": null,
            "width": null,
            "min_width": null,
            "border": null,
            "align_items": null,
            "bottom": null,
            "_model_module": "@jupyter-widgets/base",
            "top": null,
            "grid_column": null,
            "overflow_y": null,
            "overflow_x": null,
            "grid_auto_flow": null,
            "grid_area": null,
            "grid_template_columns": null,
            "flex": null,
            "_model_name": "LayoutModel",
            "justify_items": null,
            "grid_row": null,
            "max_height": null,
            "align_content": null,
            "visibility": null,
            "align_self": null,
            "height": null,
            "min_height": null,
            "padding": null,
            "grid_auto_rows": null,
            "grid_gap": null,
            "max_width": null,
            "order": null,
            "_view_module_version": "1.2.0",
            "grid_template_areas": null,
            "object_position": null,
            "object_fit": null,
            "grid_auto_columns": null,
            "margin": null,
            "display": null,
            "left": null
          }
        },
        "94c84a5691144118a5d9ff1d01d8f6b7": {
          "model_module": "@jupyter-widgets/controls",
          "model_name": "ProgressStyleModel",
          "model_module_version": "1.5.0",
          "state": {
            "_view_name": "StyleView",
            "_model_name": "ProgressStyleModel",
            "description_width": "",
            "_view_module": "@jupyter-widgets/base",
            "_model_module_version": "1.5.0",
            "_view_count": null,
            "_view_module_version": "1.2.0",
            "bar_color": null,
            "_model_module": "@jupyter-widgets/controls"
          }
        },
        "4e2455cbc85a41fbba7f179244901da2": {
          "model_module": "@jupyter-widgets/base",
          "model_name": "LayoutModel",
          "model_module_version": "1.2.0",
          "state": {
            "_view_name": "LayoutView",
            "grid_template_rows": null,
            "right": null,
            "justify_content": null,
            "_view_module": "@jupyter-widgets/base",
            "overflow": null,
            "_model_module_version": "1.2.0",
            "_view_count": null,
            "flex_flow": null,
            "width": "20px",
            "min_width": null,
            "border": null,
            "align_items": null,
            "bottom": null,
            "_model_module": "@jupyter-widgets/base",
            "top": null,
            "grid_column": null,
            "overflow_y": null,
            "overflow_x": null,
            "grid_auto_flow": null,
            "grid_area": null,
            "grid_template_columns": null,
            "flex": null,
            "_model_name": "LayoutModel",
            "justify_items": null,
            "grid_row": null,
            "max_height": null,
            "align_content": null,
            "visibility": null,
            "align_self": null,
            "height": null,
            "min_height": null,
            "padding": null,
            "grid_auto_rows": null,
            "grid_gap": null,
            "max_width": null,
            "order": null,
            "_view_module_version": "1.2.0",
            "grid_template_areas": null,
            "object_position": null,
            "object_fit": null,
            "grid_auto_columns": null,
            "margin": null,
            "display": null,
            "left": null
          }
        },
        "8e9c042a0e8247819a466e8a26a18cc5": {
          "model_module": "@jupyter-widgets/controls",
          "model_name": "DescriptionStyleModel",
          "model_module_version": "1.5.0",
          "state": {
            "_view_name": "StyleView",
            "_model_name": "DescriptionStyleModel",
            "description_width": "",
            "_view_module": "@jupyter-widgets/base",
            "_model_module_version": "1.5.0",
            "_view_count": null,
            "_view_module_version": "1.2.0",
            "_model_module": "@jupyter-widgets/controls"
          }
        },
        "ce345d05c1694ed283bd75b4e5d69290": {
          "model_module": "@jupyter-widgets/base",
          "model_name": "LayoutModel",
          "model_module_version": "1.2.0",
          "state": {
            "_view_name": "LayoutView",
            "grid_template_rows": null,
            "right": null,
            "justify_content": null,
            "_view_module": "@jupyter-widgets/base",
            "overflow": null,
            "_model_module_version": "1.2.0",
            "_view_count": null,
            "flex_flow": null,
            "width": null,
            "min_width": null,
            "border": null,
            "align_items": null,
            "bottom": null,
            "_model_module": "@jupyter-widgets/base",
            "top": null,
            "grid_column": null,
            "overflow_y": null,
            "overflow_x": null,
            "grid_auto_flow": null,
            "grid_area": null,
            "grid_template_columns": null,
            "flex": null,
            "_model_name": "LayoutModel",
            "justify_items": null,
            "grid_row": null,
            "max_height": null,
            "align_content": null,
            "visibility": null,
            "align_self": null,
            "height": null,
            "min_height": null,
            "padding": null,
            "grid_auto_rows": null,
            "grid_gap": null,
            "max_width": null,
            "order": null,
            "_view_module_version": "1.2.0",
            "grid_template_areas": null,
            "object_position": null,
            "object_fit": null,
            "grid_auto_columns": null,
            "margin": null,
            "display": null,
            "left": null
          }
        },
        "46164b9650df4b549c28fa77bcd9639c": {
          "model_module": "@jupyter-widgets/controls",
          "model_name": "HBoxModel",
          "model_module_version": "1.5.0",
          "state": {
            "_view_name": "HBoxView",
            "_dom_classes": [],
            "_model_name": "HBoxModel",
            "_view_module": "@jupyter-widgets/controls",
            "_model_module_version": "1.5.0",
            "_view_count": null,
            "_view_module_version": "1.5.0",
            "box_style": "",
            "layout": "IPY_MODEL_17716b4ca0134284b5ed816a9fb1a3c9",
            "_model_module": "@jupyter-widgets/controls",
            "children": [
              "IPY_MODEL_9ab5330d3b5b4852bfd53039335f10fc",
              "IPY_MODEL_74f38f3d17914228a4dd7cbc245f263c",
              "IPY_MODEL_ffa9339b3c8448d095159b7cc6ca4a2b"
            ]
          }
        },
        "17716b4ca0134284b5ed816a9fb1a3c9": {
          "model_module": "@jupyter-widgets/base",
          "model_name": "LayoutModel",
          "model_module_version": "1.2.0",
          "state": {
            "_view_name": "LayoutView",
            "grid_template_rows": null,
            "right": null,
            "justify_content": null,
            "_view_module": "@jupyter-widgets/base",
            "overflow": null,
            "_model_module_version": "1.2.0",
            "_view_count": null,
            "flex_flow": null,
            "width": null,
            "min_width": null,
            "border": null,
            "align_items": null,
            "bottom": null,
            "_model_module": "@jupyter-widgets/base",
            "top": null,
            "grid_column": null,
            "overflow_y": null,
            "overflow_x": null,
            "grid_auto_flow": null,
            "grid_area": null,
            "grid_template_columns": null,
            "flex": null,
            "_model_name": "LayoutModel",
            "justify_items": null,
            "grid_row": null,
            "max_height": null,
            "align_content": null,
            "visibility": null,
            "align_self": null,
            "height": null,
            "min_height": null,
            "padding": null,
            "grid_auto_rows": null,
            "grid_gap": null,
            "max_width": null,
            "order": null,
            "_view_module_version": "1.2.0",
            "grid_template_areas": null,
            "object_position": null,
            "object_fit": null,
            "grid_auto_columns": null,
            "margin": null,
            "display": null,
            "left": null
          }
        },
        "9ab5330d3b5b4852bfd53039335f10fc": {
          "model_module": "@jupyter-widgets/controls",
          "model_name": "HTMLModel",
          "model_module_version": "1.5.0",
          "state": {
            "_view_name": "HTMLView",
            "style": "IPY_MODEL_59d4655694944b8a817b212eaf238cb7",
            "_dom_classes": [],
            "description": "",
            "_model_name": "HTMLModel",
            "placeholder": "​",
            "_view_module": "@jupyter-widgets/controls",
            "_model_module_version": "1.5.0",
            "value": "Dl Size...: 100%",
            "_view_count": null,
            "_view_module_version": "1.5.0",
            "description_tooltip": null,
            "_model_module": "@jupyter-widgets/controls",
            "layout": "IPY_MODEL_9d0ec645626049908165f16fa4184a74"
          }
        },
        "74f38f3d17914228a4dd7cbc245f263c": {
          "model_module": "@jupyter-widgets/controls",
          "model_name": "FloatProgressModel",
          "model_module_version": "1.5.0",
          "state": {
            "_view_name": "ProgressView",
            "style": "IPY_MODEL_5c2b98c133814faba1fcfbae08ec8806",
            "_dom_classes": [],
            "description": "",
            "_model_name": "FloatProgressModel",
            "bar_style": "success",
            "max": 1,
            "_view_module": "@jupyter-widgets/controls",
            "_model_module_version": "1.5.0",
            "value": 1,
            "_view_count": null,
            "_view_module_version": "1.5.0",
            "orientation": "horizontal",
            "min": 0,
            "description_tooltip": null,
            "_model_module": "@jupyter-widgets/controls",
            "layout": "IPY_MODEL_018d509f1fd44ef0871588bf8c04f0bc"
          }
        },
        "ffa9339b3c8448d095159b7cc6ca4a2b": {
          "model_module": "@jupyter-widgets/controls",
          "model_name": "HTMLModel",
          "model_module_version": "1.5.0",
          "state": {
            "_view_name": "HTMLView",
            "style": "IPY_MODEL_9c1144f1235d4034a2e0c6cd153edc48",
            "_dom_classes": [],
            "description": "",
            "_model_name": "HTMLModel",
            "placeholder": "​",
            "_view_module": "@jupyter-widgets/controls",
            "_model_module_version": "1.5.0",
            "value": " 162/162 [00:06&lt;00:00, 43.01 MiB/s]",
            "_view_count": null,
            "_view_module_version": "1.5.0",
            "description_tooltip": null,
            "_model_module": "@jupyter-widgets/controls",
            "layout": "IPY_MODEL_ea9842e395b24bd2926aaa3d4a6609ee"
          }
        },
        "59d4655694944b8a817b212eaf238cb7": {
          "model_module": "@jupyter-widgets/controls",
          "model_name": "DescriptionStyleModel",
          "model_module_version": "1.5.0",
          "state": {
            "_view_name": "StyleView",
            "_model_name": "DescriptionStyleModel",
            "description_width": "",
            "_view_module": "@jupyter-widgets/base",
            "_model_module_version": "1.5.0",
            "_view_count": null,
            "_view_module_version": "1.2.0",
            "_model_module": "@jupyter-widgets/controls"
          }
        },
        "9d0ec645626049908165f16fa4184a74": {
          "model_module": "@jupyter-widgets/base",
          "model_name": "LayoutModel",
          "model_module_version": "1.2.0",
          "state": {
            "_view_name": "LayoutView",
            "grid_template_rows": null,
            "right": null,
            "justify_content": null,
            "_view_module": "@jupyter-widgets/base",
            "overflow": null,
            "_model_module_version": "1.2.0",
            "_view_count": null,
            "flex_flow": null,
            "width": null,
            "min_width": null,
            "border": null,
            "align_items": null,
            "bottom": null,
            "_model_module": "@jupyter-widgets/base",
            "top": null,
            "grid_column": null,
            "overflow_y": null,
            "overflow_x": null,
            "grid_auto_flow": null,
            "grid_area": null,
            "grid_template_columns": null,
            "flex": null,
            "_model_name": "LayoutModel",
            "justify_items": null,
            "grid_row": null,
            "max_height": null,
            "align_content": null,
            "visibility": null,
            "align_self": null,
            "height": null,
            "min_height": null,
            "padding": null,
            "grid_auto_rows": null,
            "grid_gap": null,
            "max_width": null,
            "order": null,
            "_view_module_version": "1.2.0",
            "grid_template_areas": null,
            "object_position": null,
            "object_fit": null,
            "grid_auto_columns": null,
            "margin": null,
            "display": null,
            "left": null
          }
        },
        "5c2b98c133814faba1fcfbae08ec8806": {
          "model_module": "@jupyter-widgets/controls",
          "model_name": "ProgressStyleModel",
          "model_module_version": "1.5.0",
          "state": {
            "_view_name": "StyleView",
            "_model_name": "ProgressStyleModel",
            "description_width": "",
            "_view_module": "@jupyter-widgets/base",
            "_model_module_version": "1.5.0",
            "_view_count": null,
            "_view_module_version": "1.2.0",
            "bar_color": null,
            "_model_module": "@jupyter-widgets/controls"
          }
        },
        "018d509f1fd44ef0871588bf8c04f0bc": {
          "model_module": "@jupyter-widgets/base",
          "model_name": "LayoutModel",
          "model_module_version": "1.2.0",
          "state": {
            "_view_name": "LayoutView",
            "grid_template_rows": null,
            "right": null,
            "justify_content": null,
            "_view_module": "@jupyter-widgets/base",
            "overflow": null,
            "_model_module_version": "1.2.0",
            "_view_count": null,
            "flex_flow": null,
            "width": "20px",
            "min_width": null,
            "border": null,
            "align_items": null,
            "bottom": null,
            "_model_module": "@jupyter-widgets/base",
            "top": null,
            "grid_column": null,
            "overflow_y": null,
            "overflow_x": null,
            "grid_auto_flow": null,
            "grid_area": null,
            "grid_template_columns": null,
            "flex": null,
            "_model_name": "LayoutModel",
            "justify_items": null,
            "grid_row": null,
            "max_height": null,
            "align_content": null,
            "visibility": null,
            "align_self": null,
            "height": null,
            "min_height": null,
            "padding": null,
            "grid_auto_rows": null,
            "grid_gap": null,
            "max_width": null,
            "order": null,
            "_view_module_version": "1.2.0",
            "grid_template_areas": null,
            "object_position": null,
            "object_fit": null,
            "grid_auto_columns": null,
            "margin": null,
            "display": null,
            "left": null
          }
        },
        "9c1144f1235d4034a2e0c6cd153edc48": {
          "model_module": "@jupyter-widgets/controls",
          "model_name": "DescriptionStyleModel",
          "model_module_version": "1.5.0",
          "state": {
            "_view_name": "StyleView",
            "_model_name": "DescriptionStyleModel",
            "description_width": "",
            "_view_module": "@jupyter-widgets/base",
            "_model_module_version": "1.5.0",
            "_view_count": null,
            "_view_module_version": "1.2.0",
            "_model_module": "@jupyter-widgets/controls"
          }
        },
        "ea9842e395b24bd2926aaa3d4a6609ee": {
          "model_module": "@jupyter-widgets/base",
          "model_name": "LayoutModel",
          "model_module_version": "1.2.0",
          "state": {
            "_view_name": "LayoutView",
            "grid_template_rows": null,
            "right": null,
            "justify_content": null,
            "_view_module": "@jupyter-widgets/base",
            "overflow": null,
            "_model_module_version": "1.2.0",
            "_view_count": null,
            "flex_flow": null,
            "width": null,
            "min_width": null,
            "border": null,
            "align_items": null,
            "bottom": null,
            "_model_module": "@jupyter-widgets/base",
            "top": null,
            "grid_column": null,
            "overflow_y": null,
            "overflow_x": null,
            "grid_auto_flow": null,
            "grid_area": null,
            "grid_template_columns": null,
            "flex": null,
            "_model_name": "LayoutModel",
            "justify_items": null,
            "grid_row": null,
            "max_height": null,
            "align_content": null,
            "visibility": null,
            "align_self": null,
            "height": null,
            "min_height": null,
            "padding": null,
            "grid_auto_rows": null,
            "grid_gap": null,
            "max_width": null,
            "order": null,
            "_view_module_version": "1.2.0",
            "grid_template_areas": null,
            "object_position": null,
            "object_fit": null,
            "grid_auto_columns": null,
            "margin": null,
            "display": null,
            "left": null
          }
        },
        "15e475f62c7347908b0964ca347e9fe8": {
          "model_module": "@jupyter-widgets/controls",
          "model_name": "HBoxModel",
          "model_module_version": "1.5.0",
          "state": {
            "_view_name": "HBoxView",
            "_dom_classes": [],
            "_model_name": "HBoxModel",
            "_view_module": "@jupyter-widgets/controls",
            "_model_module_version": "1.5.0",
            "_view_count": null,
            "_view_module_version": "1.5.0",
            "box_style": "",
            "layout": "IPY_MODEL_a470874e9a344a16a9566bd0b5ca8c49",
            "_model_module": "@jupyter-widgets/controls",
            "children": [
              "IPY_MODEL_bc802133f1b7402eaa83778d2f78b6e5",
              "IPY_MODEL_3e1a4331e0dc43fcbf4fcef7b0e5c154",
              "IPY_MODEL_5e8ba93529be48f881fdfa6021b82912"
            ]
          }
        },
        "a470874e9a344a16a9566bd0b5ca8c49": {
          "model_module": "@jupyter-widgets/base",
          "model_name": "LayoutModel",
          "model_module_version": "1.2.0",
          "state": {
            "_view_name": "LayoutView",
            "grid_template_rows": null,
            "right": null,
            "justify_content": null,
            "_view_module": "@jupyter-widgets/base",
            "overflow": null,
            "_model_module_version": "1.2.0",
            "_view_count": null,
            "flex_flow": null,
            "width": null,
            "min_width": null,
            "border": null,
            "align_items": null,
            "bottom": null,
            "_model_module": "@jupyter-widgets/base",
            "top": null,
            "grid_column": null,
            "overflow_y": null,
            "overflow_x": null,
            "grid_auto_flow": null,
            "grid_area": null,
            "grid_template_columns": null,
            "flex": null,
            "_model_name": "LayoutModel",
            "justify_items": null,
            "grid_row": null,
            "max_height": null,
            "align_content": null,
            "visibility": null,
            "align_self": null,
            "height": null,
            "min_height": null,
            "padding": null,
            "grid_auto_rows": null,
            "grid_gap": null,
            "max_width": null,
            "order": null,
            "_view_module_version": "1.2.0",
            "grid_template_areas": null,
            "object_position": null,
            "object_fit": null,
            "grid_auto_columns": null,
            "margin": null,
            "display": null,
            "left": null
          }
        },
        "bc802133f1b7402eaa83778d2f78b6e5": {
          "model_module": "@jupyter-widgets/controls",
          "model_name": "HTMLModel",
          "model_module_version": "1.5.0",
          "state": {
            "_view_name": "HTMLView",
            "style": "IPY_MODEL_9e684d1032994136a7528bbbe0b61b1c",
            "_dom_classes": [],
            "description": "",
            "_model_name": "HTMLModel",
            "placeholder": "​",
            "_view_module": "@jupyter-widgets/controls",
            "_model_module_version": "1.5.0",
            "value": "Extraction completed...: 100%",
            "_view_count": null,
            "_view_module_version": "1.5.0",
            "description_tooltip": null,
            "_model_module": "@jupyter-widgets/controls",
            "layout": "IPY_MODEL_7571a6e13c4e4173a3cc53767feb093f"
          }
        },
        "3e1a4331e0dc43fcbf4fcef7b0e5c154": {
          "model_module": "@jupyter-widgets/controls",
          "model_name": "FloatProgressModel",
          "model_module_version": "1.5.0",
          "state": {
            "_view_name": "ProgressView",
            "style": "IPY_MODEL_ba26fdb4b5624ba9b712f62a97ad28c4",
            "_dom_classes": [],
            "description": "",
            "_model_name": "FloatProgressModel",
            "bar_style": "success",
            "max": 1,
            "_view_module": "@jupyter-widgets/controls",
            "_model_module_version": "1.5.0",
            "value": 1,
            "_view_count": null,
            "_view_module_version": "1.5.0",
            "orientation": "horizontal",
            "min": 0,
            "description_tooltip": null,
            "_model_module": "@jupyter-widgets/controls",
            "layout": "IPY_MODEL_6b1ba84c1ab34d0ca0bb2f1ffc1d64e3"
          }
        },
        "5e8ba93529be48f881fdfa6021b82912": {
          "model_module": "@jupyter-widgets/controls",
          "model_name": "HTMLModel",
          "model_module_version": "1.5.0",
          "state": {
            "_view_name": "HTMLView",
            "style": "IPY_MODEL_8384c44adb0b4adabdbacd43119a4751",
            "_dom_classes": [],
            "description": "",
            "_model_name": "HTMLModel",
            "placeholder": "​",
            "_view_module": "@jupyter-widgets/controls",
            "_model_module_version": "1.5.0",
            "value": " 1/1 [00:06&lt;00:00,  6.62s/ file]",
            "_view_count": null,
            "_view_module_version": "1.5.0",
            "description_tooltip": null,
            "_model_module": "@jupyter-widgets/controls",
            "layout": "IPY_MODEL_58b80f2a4caf4516b98193fc78234d15"
          }
        },
        "9e684d1032994136a7528bbbe0b61b1c": {
          "model_module": "@jupyter-widgets/controls",
          "model_name": "DescriptionStyleModel",
          "model_module_version": "1.5.0",
          "state": {
            "_view_name": "StyleView",
            "_model_name": "DescriptionStyleModel",
            "description_width": "",
            "_view_module": "@jupyter-widgets/base",
            "_model_module_version": "1.5.0",
            "_view_count": null,
            "_view_module_version": "1.2.0",
            "_model_module": "@jupyter-widgets/controls"
          }
        },
        "7571a6e13c4e4173a3cc53767feb093f": {
          "model_module": "@jupyter-widgets/base",
          "model_name": "LayoutModel",
          "model_module_version": "1.2.0",
          "state": {
            "_view_name": "LayoutView",
            "grid_template_rows": null,
            "right": null,
            "justify_content": null,
            "_view_module": "@jupyter-widgets/base",
            "overflow": null,
            "_model_module_version": "1.2.0",
            "_view_count": null,
            "flex_flow": null,
            "width": null,
            "min_width": null,
            "border": null,
            "align_items": null,
            "bottom": null,
            "_model_module": "@jupyter-widgets/base",
            "top": null,
            "grid_column": null,
            "overflow_y": null,
            "overflow_x": null,
            "grid_auto_flow": null,
            "grid_area": null,
            "grid_template_columns": null,
            "flex": null,
            "_model_name": "LayoutModel",
            "justify_items": null,
            "grid_row": null,
            "max_height": null,
            "align_content": null,
            "visibility": null,
            "align_self": null,
            "height": null,
            "min_height": null,
            "padding": null,
            "grid_auto_rows": null,
            "grid_gap": null,
            "max_width": null,
            "order": null,
            "_view_module_version": "1.2.0",
            "grid_template_areas": null,
            "object_position": null,
            "object_fit": null,
            "grid_auto_columns": null,
            "margin": null,
            "display": null,
            "left": null
          }
        },
        "ba26fdb4b5624ba9b712f62a97ad28c4": {
          "model_module": "@jupyter-widgets/controls",
          "model_name": "ProgressStyleModel",
          "model_module_version": "1.5.0",
          "state": {
            "_view_name": "StyleView",
            "_model_name": "ProgressStyleModel",
            "description_width": "",
            "_view_module": "@jupyter-widgets/base",
            "_model_module_version": "1.5.0",
            "_view_count": null,
            "_view_module_version": "1.2.0",
            "bar_color": null,
            "_model_module": "@jupyter-widgets/controls"
          }
        },
        "6b1ba84c1ab34d0ca0bb2f1ffc1d64e3": {
          "model_module": "@jupyter-widgets/base",
          "model_name": "LayoutModel",
          "model_module_version": "1.2.0",
          "state": {
            "_view_name": "LayoutView",
            "grid_template_rows": null,
            "right": null,
            "justify_content": null,
            "_view_module": "@jupyter-widgets/base",
            "overflow": null,
            "_model_module_version": "1.2.0",
            "_view_count": null,
            "flex_flow": null,
            "width": "20px",
            "min_width": null,
            "border": null,
            "align_items": null,
            "bottom": null,
            "_model_module": "@jupyter-widgets/base",
            "top": null,
            "grid_column": null,
            "overflow_y": null,
            "overflow_x": null,
            "grid_auto_flow": null,
            "grid_area": null,
            "grid_template_columns": null,
            "flex": null,
            "_model_name": "LayoutModel",
            "justify_items": null,
            "grid_row": null,
            "max_height": null,
            "align_content": null,
            "visibility": null,
            "align_self": null,
            "height": null,
            "min_height": null,
            "padding": null,
            "grid_auto_rows": null,
            "grid_gap": null,
            "max_width": null,
            "order": null,
            "_view_module_version": "1.2.0",
            "grid_template_areas": null,
            "object_position": null,
            "object_fit": null,
            "grid_auto_columns": null,
            "margin": null,
            "display": null,
            "left": null
          }
        },
        "8384c44adb0b4adabdbacd43119a4751": {
          "model_module": "@jupyter-widgets/controls",
          "model_name": "DescriptionStyleModel",
          "model_module_version": "1.5.0",
          "state": {
            "_view_name": "StyleView",
            "_model_name": "DescriptionStyleModel",
            "description_width": "",
            "_view_module": "@jupyter-widgets/base",
            "_model_module_version": "1.5.0",
            "_view_count": null,
            "_view_module_version": "1.2.0",
            "_model_module": "@jupyter-widgets/controls"
          }
        },
        "58b80f2a4caf4516b98193fc78234d15": {
          "model_module": "@jupyter-widgets/base",
          "model_name": "LayoutModel",
          "model_module_version": "1.2.0",
          "state": {
            "_view_name": "LayoutView",
            "grid_template_rows": null,
            "right": null,
            "justify_content": null,
            "_view_module": "@jupyter-widgets/base",
            "overflow": null,
            "_model_module_version": "1.2.0",
            "_view_count": null,
            "flex_flow": null,
            "width": null,
            "min_width": null,
            "border": null,
            "align_items": null,
            "bottom": null,
            "_model_module": "@jupyter-widgets/base",
            "top": null,
            "grid_column": null,
            "overflow_y": null,
            "overflow_x": null,
            "grid_auto_flow": null,
            "grid_area": null,
            "grid_template_columns": null,
            "flex": null,
            "_model_name": "LayoutModel",
            "justify_items": null,
            "grid_row": null,
            "max_height": null,
            "align_content": null,
            "visibility": null,
            "align_self": null,
            "height": null,
            "min_height": null,
            "padding": null,
            "grid_auto_rows": null,
            "grid_gap": null,
            "max_width": null,
            "order": null,
            "_view_module_version": "1.2.0",
            "grid_template_areas": null,
            "object_position": null,
            "object_fit": null,
            "grid_auto_columns": null,
            "margin": null,
            "display": null,
            "left": null
          }
        },
        "8a74655d04c54734a7f3b538983ea57b": {
          "model_module": "@jupyter-widgets/controls",
          "model_name": "HBoxModel",
          "model_module_version": "1.5.0",
          "state": {
            "_view_name": "HBoxView",
            "_dom_classes": [],
            "_model_name": "HBoxModel",
            "_view_module": "@jupyter-widgets/controls",
            "_model_module_version": "1.5.0",
            "_view_count": null,
            "_view_module_version": "1.5.0",
            "box_style": "",
            "layout": "IPY_MODEL_a52d17a2752e4fc78a8a80295e9954e6",
            "_model_module": "@jupyter-widgets/controls",
            "children": [
              "IPY_MODEL_483502d87a1948019eb2ac0ebb66477f",
              "IPY_MODEL_5a4cda41a7904664968fa618af39f4b7",
              "IPY_MODEL_528e1ff935cf4262a165e05cefeb33b9"
            ]
          }
        },
        "a52d17a2752e4fc78a8a80295e9954e6": {
          "model_module": "@jupyter-widgets/base",
          "model_name": "LayoutModel",
          "model_module_version": "1.2.0",
          "state": {
            "_view_name": "LayoutView",
            "grid_template_rows": null,
            "right": null,
            "justify_content": null,
            "_view_module": "@jupyter-widgets/base",
            "overflow": null,
            "_model_module_version": "1.2.0",
            "_view_count": null,
            "flex_flow": null,
            "width": null,
            "min_width": null,
            "border": null,
            "align_items": null,
            "bottom": null,
            "_model_module": "@jupyter-widgets/base",
            "top": null,
            "grid_column": null,
            "overflow_y": null,
            "overflow_x": null,
            "grid_auto_flow": null,
            "grid_area": null,
            "grid_template_columns": null,
            "flex": null,
            "_model_name": "LayoutModel",
            "justify_items": null,
            "grid_row": null,
            "max_height": null,
            "align_content": null,
            "visibility": null,
            "align_self": null,
            "height": null,
            "min_height": null,
            "padding": null,
            "grid_auto_rows": null,
            "grid_gap": null,
            "max_width": null,
            "order": null,
            "_view_module_version": "1.2.0",
            "grid_template_areas": null,
            "object_position": null,
            "object_fit": null,
            "grid_auto_columns": null,
            "margin": null,
            "display": null,
            "left": null
          }
        },
        "483502d87a1948019eb2ac0ebb66477f": {
          "model_module": "@jupyter-widgets/controls",
          "model_name": "HTMLModel",
          "model_module_version": "1.5.0",
          "state": {
            "_view_name": "HTMLView",
            "style": "IPY_MODEL_5925d984e5994d37890434fb6a0b7589",
            "_dom_classes": [],
            "description": "",
            "_model_name": "HTMLModel",
            "placeholder": "​",
            "_view_module": "@jupyter-widgets/controls",
            "_model_module_version": "1.5.0",
            "value": "",
            "_view_count": null,
            "_view_module_version": "1.5.0",
            "description_tooltip": null,
            "_model_module": "@jupyter-widgets/controls",
            "layout": "IPY_MODEL_c1083bb3328a42b2bf7e5c7ab4722481"
          }
        },
        "5a4cda41a7904664968fa618af39f4b7": {
          "model_module": "@jupyter-widgets/controls",
          "model_name": "FloatProgressModel",
          "model_module_version": "1.5.0",
          "state": {
            "_view_name": "ProgressView",
            "style": "IPY_MODEL_c083d82524f8447f87192bf715402181",
            "_dom_classes": [],
            "description": "",
            "_model_name": "FloatProgressModel",
            "bar_style": "info",
            "max": 1,
            "_view_module": "@jupyter-widgets/controls",
            "_model_module_version": "1.5.0",
            "value": 1,
            "_view_count": null,
            "_view_module_version": "1.5.0",
            "orientation": "horizontal",
            "min": 0,
            "description_tooltip": null,
            "_model_module": "@jupyter-widgets/controls",
            "layout": "IPY_MODEL_44a118753b16432f82f61967a0e7ee3a"
          }
        },
        "528e1ff935cf4262a165e05cefeb33b9": {
          "model_module": "@jupyter-widgets/controls",
          "model_name": "HTMLModel",
          "model_module_version": "1.5.0",
          "state": {
            "_view_name": "HTMLView",
            "style": "IPY_MODEL_36984c5820294d75a35881958f30e2bf",
            "_dom_classes": [],
            "description": "",
            "_model_name": "HTMLModel",
            "placeholder": "​",
            "_view_module": "@jupyter-widgets/controls",
            "_model_module_version": "1.5.0",
            "value": " 49933/0 [00:57&lt;00:00, 862.04 examples/s]",
            "_view_count": null,
            "_view_module_version": "1.5.0",
            "description_tooltip": null,
            "_model_module": "@jupyter-widgets/controls",
            "layout": "IPY_MODEL_053ec1318de444548eaf80687b015601"
          }
        },
        "5925d984e5994d37890434fb6a0b7589": {
          "model_module": "@jupyter-widgets/controls",
          "model_name": "DescriptionStyleModel",
          "model_module_version": "1.5.0",
          "state": {
            "_view_name": "StyleView",
            "_model_name": "DescriptionStyleModel",
            "description_width": "",
            "_view_module": "@jupyter-widgets/base",
            "_model_module_version": "1.5.0",
            "_view_count": null,
            "_view_module_version": "1.2.0",
            "_model_module": "@jupyter-widgets/controls"
          }
        },
        "c1083bb3328a42b2bf7e5c7ab4722481": {
          "model_module": "@jupyter-widgets/base",
          "model_name": "LayoutModel",
          "model_module_version": "1.2.0",
          "state": {
            "_view_name": "LayoutView",
            "grid_template_rows": null,
            "right": null,
            "justify_content": null,
            "_view_module": "@jupyter-widgets/base",
            "overflow": null,
            "_model_module_version": "1.2.0",
            "_view_count": null,
            "flex_flow": null,
            "width": null,
            "min_width": null,
            "border": null,
            "align_items": null,
            "bottom": null,
            "_model_module": "@jupyter-widgets/base",
            "top": null,
            "grid_column": null,
            "overflow_y": null,
            "overflow_x": null,
            "grid_auto_flow": null,
            "grid_area": null,
            "grid_template_columns": null,
            "flex": null,
            "_model_name": "LayoutModel",
            "justify_items": null,
            "grid_row": null,
            "max_height": null,
            "align_content": null,
            "visibility": null,
            "align_self": null,
            "height": null,
            "min_height": null,
            "padding": null,
            "grid_auto_rows": null,
            "grid_gap": null,
            "max_width": null,
            "order": null,
            "_view_module_version": "1.2.0",
            "grid_template_areas": null,
            "object_position": null,
            "object_fit": null,
            "grid_auto_columns": null,
            "margin": null,
            "display": null,
            "left": null
          }
        },
        "c083d82524f8447f87192bf715402181": {
          "model_module": "@jupyter-widgets/controls",
          "model_name": "ProgressStyleModel",
          "model_module_version": "1.5.0",
          "state": {
            "_view_name": "StyleView",
            "_model_name": "ProgressStyleModel",
            "description_width": "",
            "_view_module": "@jupyter-widgets/base",
            "_model_module_version": "1.5.0",
            "_view_count": null,
            "_view_module_version": "1.2.0",
            "bar_color": null,
            "_model_module": "@jupyter-widgets/controls"
          }
        },
        "44a118753b16432f82f61967a0e7ee3a": {
          "model_module": "@jupyter-widgets/base",
          "model_name": "LayoutModel",
          "model_module_version": "1.2.0",
          "state": {
            "_view_name": "LayoutView",
            "grid_template_rows": null,
            "right": null,
            "justify_content": null,
            "_view_module": "@jupyter-widgets/base",
            "overflow": null,
            "_model_module_version": "1.2.0",
            "_view_count": null,
            "flex_flow": null,
            "width": "20px",
            "min_width": null,
            "border": null,
            "align_items": null,
            "bottom": null,
            "_model_module": "@jupyter-widgets/base",
            "top": null,
            "grid_column": null,
            "overflow_y": null,
            "overflow_x": null,
            "grid_auto_flow": null,
            "grid_area": null,
            "grid_template_columns": null,
            "flex": null,
            "_model_name": "LayoutModel",
            "justify_items": null,
            "grid_row": null,
            "max_height": null,
            "align_content": null,
            "visibility": null,
            "align_self": null,
            "height": null,
            "min_height": null,
            "padding": null,
            "grid_auto_rows": null,
            "grid_gap": null,
            "max_width": null,
            "order": null,
            "_view_module_version": "1.2.0",
            "grid_template_areas": null,
            "object_position": null,
            "object_fit": null,
            "grid_auto_columns": null,
            "margin": null,
            "display": null,
            "left": null
          }
        },
        "36984c5820294d75a35881958f30e2bf": {
          "model_module": "@jupyter-widgets/controls",
          "model_name": "DescriptionStyleModel",
          "model_module_version": "1.5.0",
          "state": {
            "_view_name": "StyleView",
            "_model_name": "DescriptionStyleModel",
            "description_width": "",
            "_view_module": "@jupyter-widgets/base",
            "_model_module_version": "1.5.0",
            "_view_count": null,
            "_view_module_version": "1.2.0",
            "_model_module": "@jupyter-widgets/controls"
          }
        },
        "053ec1318de444548eaf80687b015601": {
          "model_module": "@jupyter-widgets/base",
          "model_name": "LayoutModel",
          "model_module_version": "1.2.0",
          "state": {
            "_view_name": "LayoutView",
            "grid_template_rows": null,
            "right": null,
            "justify_content": null,
            "_view_module": "@jupyter-widgets/base",
            "overflow": null,
            "_model_module_version": "1.2.0",
            "_view_count": null,
            "flex_flow": null,
            "width": null,
            "min_width": null,
            "border": null,
            "align_items": null,
            "bottom": null,
            "_model_module": "@jupyter-widgets/base",
            "top": null,
            "grid_column": null,
            "overflow_y": null,
            "overflow_x": null,
            "grid_auto_flow": null,
            "grid_area": null,
            "grid_template_columns": null,
            "flex": null,
            "_model_name": "LayoutModel",
            "justify_items": null,
            "grid_row": null,
            "max_height": null,
            "align_content": null,
            "visibility": null,
            "align_self": null,
            "height": null,
            "min_height": null,
            "padding": null,
            "grid_auto_rows": null,
            "grid_gap": null,
            "max_width": null,
            "order": null,
            "_view_module_version": "1.2.0",
            "grid_template_areas": null,
            "object_position": null,
            "object_fit": null,
            "grid_auto_columns": null,
            "margin": null,
            "display": null,
            "left": null
          }
        },
        "018611bdf0ab4ac380dff977525901dc": {
          "model_module": "@jupyter-widgets/controls",
          "model_name": "HBoxModel",
          "model_module_version": "1.5.0",
          "state": {
            "_view_name": "HBoxView",
            "_dom_classes": [],
            "_model_name": "HBoxModel",
            "_view_module": "@jupyter-widgets/controls",
            "_model_module_version": "1.5.0",
            "_view_count": null,
            "_view_module_version": "1.5.0",
            "box_style": "",
            "layout": "IPY_MODEL_e4daafce099b4e66b322341d27b23d31",
            "_model_module": "@jupyter-widgets/controls",
            "children": [
              "IPY_MODEL_3cd2ddca47544c6c8ae5fe141da37ed0",
              "IPY_MODEL_ecefb29f310c425784f39ae820e12db5",
              "IPY_MODEL_d29b443d1a2a4232b21a6df22ba87247"
            ]
          }
        },
        "e4daafce099b4e66b322341d27b23d31": {
          "model_module": "@jupyter-widgets/base",
          "model_name": "LayoutModel",
          "model_module_version": "1.2.0",
          "state": {
            "_view_name": "LayoutView",
            "grid_template_rows": null,
            "right": null,
            "justify_content": null,
            "_view_module": "@jupyter-widgets/base",
            "overflow": null,
            "_model_module_version": "1.2.0",
            "_view_count": null,
            "flex_flow": null,
            "width": null,
            "min_width": null,
            "border": null,
            "align_items": null,
            "bottom": null,
            "_model_module": "@jupyter-widgets/base",
            "top": null,
            "grid_column": null,
            "overflow_y": null,
            "overflow_x": null,
            "grid_auto_flow": null,
            "grid_area": null,
            "grid_template_columns": null,
            "flex": null,
            "_model_name": "LayoutModel",
            "justify_items": null,
            "grid_row": null,
            "max_height": null,
            "align_content": null,
            "visibility": null,
            "align_self": null,
            "height": null,
            "min_height": null,
            "padding": null,
            "grid_auto_rows": null,
            "grid_gap": null,
            "max_width": null,
            "order": null,
            "_view_module_version": "1.2.0",
            "grid_template_areas": null,
            "object_position": null,
            "object_fit": null,
            "grid_auto_columns": null,
            "margin": null,
            "display": null,
            "left": null
          }
        },
        "3cd2ddca47544c6c8ae5fe141da37ed0": {
          "model_module": "@jupyter-widgets/controls",
          "model_name": "HTMLModel",
          "model_module_version": "1.5.0",
          "state": {
            "_view_name": "HTMLView",
            "style": "IPY_MODEL_8e2de714e17941e082933491098dc3f7",
            "_dom_classes": [],
            "description": "",
            "_model_name": "HTMLModel",
            "placeholder": "​",
            "_view_module": "@jupyter-widgets/controls",
            "_model_module_version": "1.5.0",
            "value": "100%",
            "_view_count": null,
            "_view_module_version": "1.5.0",
            "description_tooltip": null,
            "_model_module": "@jupyter-widgets/controls",
            "layout": "IPY_MODEL_353aa18ccded46bdacfe12325892b32a"
          }
        },
        "ecefb29f310c425784f39ae820e12db5": {
          "model_module": "@jupyter-widgets/controls",
          "model_name": "FloatProgressModel",
          "model_module_version": "1.5.0",
          "state": {
            "_view_name": "ProgressView",
            "style": "IPY_MODEL_bb65ea611d76478fbd92d8856ae2da87",
            "_dom_classes": [],
            "description": "",
            "_model_name": "FloatProgressModel",
            "bar_style": "danger",
            "max": 50000,
            "_view_module": "@jupyter-widgets/controls",
            "_model_module_version": "1.5.0",
            "value": 49999,
            "_view_count": null,
            "_view_module_version": "1.5.0",
            "orientation": "horizontal",
            "min": 0,
            "description_tooltip": null,
            "_model_module": "@jupyter-widgets/controls",
            "layout": "IPY_MODEL_aa411b14ea8d4ef1b31888f23227010b"
          }
        },
        "d29b443d1a2a4232b21a6df22ba87247": {
          "model_module": "@jupyter-widgets/controls",
          "model_name": "HTMLModel",
          "model_module_version": "1.5.0",
          "state": {
            "_view_name": "HTMLView",
            "style": "IPY_MODEL_82adf591b5ab49d28b872ec2b49e24cc",
            "_dom_classes": [],
            "description": "",
            "_model_name": "HTMLModel",
            "placeholder": "​",
            "_view_module": "@jupyter-widgets/controls",
            "_model_module_version": "1.5.0",
            "value": " 49999/50000 [00:00&lt;00:00, 130912.64 examples/s]",
            "_view_count": null,
            "_view_module_version": "1.5.0",
            "description_tooltip": null,
            "_model_module": "@jupyter-widgets/controls",
            "layout": "IPY_MODEL_df736b9c1de346da872d045e5bdf1336"
          }
        },
        "8e2de714e17941e082933491098dc3f7": {
          "model_module": "@jupyter-widgets/controls",
          "model_name": "DescriptionStyleModel",
          "model_module_version": "1.5.0",
          "state": {
            "_view_name": "StyleView",
            "_model_name": "DescriptionStyleModel",
            "description_width": "",
            "_view_module": "@jupyter-widgets/base",
            "_model_module_version": "1.5.0",
            "_view_count": null,
            "_view_module_version": "1.2.0",
            "_model_module": "@jupyter-widgets/controls"
          }
        },
        "353aa18ccded46bdacfe12325892b32a": {
          "model_module": "@jupyter-widgets/base",
          "model_name": "LayoutModel",
          "model_module_version": "1.2.0",
          "state": {
            "_view_name": "LayoutView",
            "grid_template_rows": null,
            "right": null,
            "justify_content": null,
            "_view_module": "@jupyter-widgets/base",
            "overflow": null,
            "_model_module_version": "1.2.0",
            "_view_count": null,
            "flex_flow": null,
            "width": null,
            "min_width": null,
            "border": null,
            "align_items": null,
            "bottom": null,
            "_model_module": "@jupyter-widgets/base",
            "top": null,
            "grid_column": null,
            "overflow_y": null,
            "overflow_x": null,
            "grid_auto_flow": null,
            "grid_area": null,
            "grid_template_columns": null,
            "flex": null,
            "_model_name": "LayoutModel",
            "justify_items": null,
            "grid_row": null,
            "max_height": null,
            "align_content": null,
            "visibility": null,
            "align_self": null,
            "height": null,
            "min_height": null,
            "padding": null,
            "grid_auto_rows": null,
            "grid_gap": null,
            "max_width": null,
            "order": null,
            "_view_module_version": "1.2.0",
            "grid_template_areas": null,
            "object_position": null,
            "object_fit": null,
            "grid_auto_columns": null,
            "margin": null,
            "display": null,
            "left": null
          }
        },
        "bb65ea611d76478fbd92d8856ae2da87": {
          "model_module": "@jupyter-widgets/controls",
          "model_name": "ProgressStyleModel",
          "model_module_version": "1.5.0",
          "state": {
            "_view_name": "StyleView",
            "_model_name": "ProgressStyleModel",
            "description_width": "",
            "_view_module": "@jupyter-widgets/base",
            "_model_module_version": "1.5.0",
            "_view_count": null,
            "_view_module_version": "1.2.0",
            "bar_color": null,
            "_model_module": "@jupyter-widgets/controls"
          }
        },
        "aa411b14ea8d4ef1b31888f23227010b": {
          "model_module": "@jupyter-widgets/base",
          "model_name": "LayoutModel",
          "model_module_version": "1.2.0",
          "state": {
            "_view_name": "LayoutView",
            "grid_template_rows": null,
            "right": null,
            "justify_content": null,
            "_view_module": "@jupyter-widgets/base",
            "overflow": null,
            "_model_module_version": "1.2.0",
            "_view_count": null,
            "flex_flow": null,
            "width": null,
            "min_width": null,
            "border": null,
            "align_items": null,
            "bottom": null,
            "_model_module": "@jupyter-widgets/base",
            "top": null,
            "grid_column": null,
            "overflow_y": null,
            "overflow_x": null,
            "grid_auto_flow": null,
            "grid_area": null,
            "grid_template_columns": null,
            "flex": null,
            "_model_name": "LayoutModel",
            "justify_items": null,
            "grid_row": null,
            "max_height": null,
            "align_content": null,
            "visibility": null,
            "align_self": null,
            "height": null,
            "min_height": null,
            "padding": null,
            "grid_auto_rows": null,
            "grid_gap": null,
            "max_width": null,
            "order": null,
            "_view_module_version": "1.2.0",
            "grid_template_areas": null,
            "object_position": null,
            "object_fit": null,
            "grid_auto_columns": null,
            "margin": null,
            "display": null,
            "left": null
          }
        },
        "82adf591b5ab49d28b872ec2b49e24cc": {
          "model_module": "@jupyter-widgets/controls",
          "model_name": "DescriptionStyleModel",
          "model_module_version": "1.5.0",
          "state": {
            "_view_name": "StyleView",
            "_model_name": "DescriptionStyleModel",
            "description_width": "",
            "_view_module": "@jupyter-widgets/base",
            "_model_module_version": "1.5.0",
            "_view_count": null,
            "_view_module_version": "1.2.0",
            "_model_module": "@jupyter-widgets/controls"
          }
        },
        "df736b9c1de346da872d045e5bdf1336": {
          "model_module": "@jupyter-widgets/base",
          "model_name": "LayoutModel",
          "model_module_version": "1.2.0",
          "state": {
            "_view_name": "LayoutView",
            "grid_template_rows": null,
            "right": null,
            "justify_content": null,
            "_view_module": "@jupyter-widgets/base",
            "overflow": null,
            "_model_module_version": "1.2.0",
            "_view_count": null,
            "flex_flow": null,
            "width": null,
            "min_width": null,
            "border": null,
            "align_items": null,
            "bottom": null,
            "_model_module": "@jupyter-widgets/base",
            "top": null,
            "grid_column": null,
            "overflow_y": null,
            "overflow_x": null,
            "grid_auto_flow": null,
            "grid_area": null,
            "grid_template_columns": null,
            "flex": null,
            "_model_name": "LayoutModel",
            "justify_items": null,
            "grid_row": null,
            "max_height": null,
            "align_content": null,
            "visibility": null,
            "align_self": null,
            "height": null,
            "min_height": null,
            "padding": null,
            "grid_auto_rows": null,
            "grid_gap": null,
            "max_width": null,
            "order": null,
            "_view_module_version": "1.2.0",
            "grid_template_areas": null,
            "object_position": null,
            "object_fit": null,
            "grid_auto_columns": null,
            "margin": null,
            "display": null,
            "left": null
          }
        },
        "7ef388e0f5df45068af0a7a63f239489": {
          "model_module": "@jupyter-widgets/controls",
          "model_name": "HBoxModel",
          "model_module_version": "1.5.0",
          "state": {
            "_view_name": "HBoxView",
            "_dom_classes": [],
            "_model_name": "HBoxModel",
            "_view_module": "@jupyter-widgets/controls",
            "_model_module_version": "1.5.0",
            "_view_count": null,
            "_view_module_version": "1.5.0",
            "box_style": "",
            "layout": "IPY_MODEL_e038786b04fa49fbaeba8b8e4aa6d111",
            "_model_module": "@jupyter-widgets/controls",
            "children": [
              "IPY_MODEL_c4ca0a3d157e4a418409f5419cee3bed",
              "IPY_MODEL_12ef973390cb470095655b8a2a379e35",
              "IPY_MODEL_167d507ca536456c9bcaad94712826dc"
            ]
          }
        },
        "e038786b04fa49fbaeba8b8e4aa6d111": {
          "model_module": "@jupyter-widgets/base",
          "model_name": "LayoutModel",
          "model_module_version": "1.2.0",
          "state": {
            "_view_name": "LayoutView",
            "grid_template_rows": null,
            "right": null,
            "justify_content": null,
            "_view_module": "@jupyter-widgets/base",
            "overflow": null,
            "_model_module_version": "1.2.0",
            "_view_count": null,
            "flex_flow": null,
            "width": null,
            "min_width": null,
            "border": null,
            "align_items": null,
            "bottom": null,
            "_model_module": "@jupyter-widgets/base",
            "top": null,
            "grid_column": null,
            "overflow_y": null,
            "overflow_x": null,
            "grid_auto_flow": null,
            "grid_area": null,
            "grid_template_columns": null,
            "flex": null,
            "_model_name": "LayoutModel",
            "justify_items": null,
            "grid_row": null,
            "max_height": null,
            "align_content": null,
            "visibility": null,
            "align_self": null,
            "height": null,
            "min_height": null,
            "padding": null,
            "grid_auto_rows": null,
            "grid_gap": null,
            "max_width": null,
            "order": null,
            "_view_module_version": "1.2.0",
            "grid_template_areas": null,
            "object_position": null,
            "object_fit": null,
            "grid_auto_columns": null,
            "margin": null,
            "display": null,
            "left": null
          }
        },
        "c4ca0a3d157e4a418409f5419cee3bed": {
          "model_module": "@jupyter-widgets/controls",
          "model_name": "HTMLModel",
          "model_module_version": "1.5.0",
          "state": {
            "_view_name": "HTMLView",
            "style": "IPY_MODEL_03a22763be854228bfd47cd4eb5a1133",
            "_dom_classes": [],
            "description": "",
            "_model_name": "HTMLModel",
            "placeholder": "​",
            "_view_module": "@jupyter-widgets/controls",
            "_model_module_version": "1.5.0",
            "value": "",
            "_view_count": null,
            "_view_module_version": "1.5.0",
            "description_tooltip": null,
            "_model_module": "@jupyter-widgets/controls",
            "layout": "IPY_MODEL_d3b602708d374184bb085808da880206"
          }
        },
        "12ef973390cb470095655b8a2a379e35": {
          "model_module": "@jupyter-widgets/controls",
          "model_name": "FloatProgressModel",
          "model_module_version": "1.5.0",
          "state": {
            "_view_name": "ProgressView",
            "style": "IPY_MODEL_f7a8f244b3b84e17b1b2328390399ae7",
            "_dom_classes": [],
            "description": "",
            "_model_name": "FloatProgressModel",
            "bar_style": "info",
            "max": 1,
            "_view_module": "@jupyter-widgets/controls",
            "_model_module_version": "1.5.0",
            "value": 1,
            "_view_count": null,
            "_view_module_version": "1.5.0",
            "orientation": "horizontal",
            "min": 0,
            "description_tooltip": null,
            "_model_module": "@jupyter-widgets/controls",
            "layout": "IPY_MODEL_3220fae44f944d0e8b66995c4a5c74f2"
          }
        },
        "167d507ca536456c9bcaad94712826dc": {
          "model_module": "@jupyter-widgets/controls",
          "model_name": "HTMLModel",
          "model_module_version": "1.5.0",
          "state": {
            "_view_name": "HTMLView",
            "style": "IPY_MODEL_d8a61d05d7d94c589ee072927e35c089",
            "_dom_classes": [],
            "description": "",
            "_model_name": "HTMLModel",
            "placeholder": "​",
            "_view_module": "@jupyter-widgets/controls",
            "_model_module_version": "1.5.0",
            "value": " 9977/0 [00:11&lt;00:00, 813.08 examples/s]",
            "_view_count": null,
            "_view_module_version": "1.5.0",
            "description_tooltip": null,
            "_model_module": "@jupyter-widgets/controls",
            "layout": "IPY_MODEL_3d40a8a31e4444aaaadb43e31b9217c6"
          }
        },
        "03a22763be854228bfd47cd4eb5a1133": {
          "model_module": "@jupyter-widgets/controls",
          "model_name": "DescriptionStyleModel",
          "model_module_version": "1.5.0",
          "state": {
            "_view_name": "StyleView",
            "_model_name": "DescriptionStyleModel",
            "description_width": "",
            "_view_module": "@jupyter-widgets/base",
            "_model_module_version": "1.5.0",
            "_view_count": null,
            "_view_module_version": "1.2.0",
            "_model_module": "@jupyter-widgets/controls"
          }
        },
        "d3b602708d374184bb085808da880206": {
          "model_module": "@jupyter-widgets/base",
          "model_name": "LayoutModel",
          "model_module_version": "1.2.0",
          "state": {
            "_view_name": "LayoutView",
            "grid_template_rows": null,
            "right": null,
            "justify_content": null,
            "_view_module": "@jupyter-widgets/base",
            "overflow": null,
            "_model_module_version": "1.2.0",
            "_view_count": null,
            "flex_flow": null,
            "width": null,
            "min_width": null,
            "border": null,
            "align_items": null,
            "bottom": null,
            "_model_module": "@jupyter-widgets/base",
            "top": null,
            "grid_column": null,
            "overflow_y": null,
            "overflow_x": null,
            "grid_auto_flow": null,
            "grid_area": null,
            "grid_template_columns": null,
            "flex": null,
            "_model_name": "LayoutModel",
            "justify_items": null,
            "grid_row": null,
            "max_height": null,
            "align_content": null,
            "visibility": null,
            "align_self": null,
            "height": null,
            "min_height": null,
            "padding": null,
            "grid_auto_rows": null,
            "grid_gap": null,
            "max_width": null,
            "order": null,
            "_view_module_version": "1.2.0",
            "grid_template_areas": null,
            "object_position": null,
            "object_fit": null,
            "grid_auto_columns": null,
            "margin": null,
            "display": null,
            "left": null
          }
        },
        "f7a8f244b3b84e17b1b2328390399ae7": {
          "model_module": "@jupyter-widgets/controls",
          "model_name": "ProgressStyleModel",
          "model_module_version": "1.5.0",
          "state": {
            "_view_name": "StyleView",
            "_model_name": "ProgressStyleModel",
            "description_width": "",
            "_view_module": "@jupyter-widgets/base",
            "_model_module_version": "1.5.0",
            "_view_count": null,
            "_view_module_version": "1.2.0",
            "bar_color": null,
            "_model_module": "@jupyter-widgets/controls"
          }
        },
        "3220fae44f944d0e8b66995c4a5c74f2": {
          "model_module": "@jupyter-widgets/base",
          "model_name": "LayoutModel",
          "model_module_version": "1.2.0",
          "state": {
            "_view_name": "LayoutView",
            "grid_template_rows": null,
            "right": null,
            "justify_content": null,
            "_view_module": "@jupyter-widgets/base",
            "overflow": null,
            "_model_module_version": "1.2.0",
            "_view_count": null,
            "flex_flow": null,
            "width": "20px",
            "min_width": null,
            "border": null,
            "align_items": null,
            "bottom": null,
            "_model_module": "@jupyter-widgets/base",
            "top": null,
            "grid_column": null,
            "overflow_y": null,
            "overflow_x": null,
            "grid_auto_flow": null,
            "grid_area": null,
            "grid_template_columns": null,
            "flex": null,
            "_model_name": "LayoutModel",
            "justify_items": null,
            "grid_row": null,
            "max_height": null,
            "align_content": null,
            "visibility": null,
            "align_self": null,
            "height": null,
            "min_height": null,
            "padding": null,
            "grid_auto_rows": null,
            "grid_gap": null,
            "max_width": null,
            "order": null,
            "_view_module_version": "1.2.0",
            "grid_template_areas": null,
            "object_position": null,
            "object_fit": null,
            "grid_auto_columns": null,
            "margin": null,
            "display": null,
            "left": null
          }
        },
        "d8a61d05d7d94c589ee072927e35c089": {
          "model_module": "@jupyter-widgets/controls",
          "model_name": "DescriptionStyleModel",
          "model_module_version": "1.5.0",
          "state": {
            "_view_name": "StyleView",
            "_model_name": "DescriptionStyleModel",
            "description_width": "",
            "_view_module": "@jupyter-widgets/base",
            "_model_module_version": "1.5.0",
            "_view_count": null,
            "_view_module_version": "1.2.0",
            "_model_module": "@jupyter-widgets/controls"
          }
        },
        "3d40a8a31e4444aaaadb43e31b9217c6": {
          "model_module": "@jupyter-widgets/base",
          "model_name": "LayoutModel",
          "model_module_version": "1.2.0",
          "state": {
            "_view_name": "LayoutView",
            "grid_template_rows": null,
            "right": null,
            "justify_content": null,
            "_view_module": "@jupyter-widgets/base",
            "overflow": null,
            "_model_module_version": "1.2.0",
            "_view_count": null,
            "flex_flow": null,
            "width": null,
            "min_width": null,
            "border": null,
            "align_items": null,
            "bottom": null,
            "_model_module": "@jupyter-widgets/base",
            "top": null,
            "grid_column": null,
            "overflow_y": null,
            "overflow_x": null,
            "grid_auto_flow": null,
            "grid_area": null,
            "grid_template_columns": null,
            "flex": null,
            "_model_name": "LayoutModel",
            "justify_items": null,
            "grid_row": null,
            "max_height": null,
            "align_content": null,
            "visibility": null,
            "align_self": null,
            "height": null,
            "min_height": null,
            "padding": null,
            "grid_auto_rows": null,
            "grid_gap": null,
            "max_width": null,
            "order": null,
            "_view_module_version": "1.2.0",
            "grid_template_areas": null,
            "object_position": null,
            "object_fit": null,
            "grid_auto_columns": null,
            "margin": null,
            "display": null,
            "left": null
          }
        },
        "ba3cdb1b13754dcfbd0876597426de91": {
          "model_module": "@jupyter-widgets/controls",
          "model_name": "HBoxModel",
          "model_module_version": "1.5.0",
          "state": {
            "_view_name": "HBoxView",
            "_dom_classes": [],
            "_model_name": "HBoxModel",
            "_view_module": "@jupyter-widgets/controls",
            "_model_module_version": "1.5.0",
            "_view_count": null,
            "_view_module_version": "1.5.0",
            "box_style": "",
            "layout": "IPY_MODEL_b31a465e5ccb4a18b1c8e50dbbfa53f4",
            "_model_module": "@jupyter-widgets/controls",
            "children": [
              "IPY_MODEL_16c7a1c379e548b8bbbb7f6491701d19",
              "IPY_MODEL_ca01e25772c444259a8b4ac37e508a37",
              "IPY_MODEL_0afceff2412843b9af47e480ea7190c6"
            ]
          }
        },
        "b31a465e5ccb4a18b1c8e50dbbfa53f4": {
          "model_module": "@jupyter-widgets/base",
          "model_name": "LayoutModel",
          "model_module_version": "1.2.0",
          "state": {
            "_view_name": "LayoutView",
            "grid_template_rows": null,
            "right": null,
            "justify_content": null,
            "_view_module": "@jupyter-widgets/base",
            "overflow": null,
            "_model_module_version": "1.2.0",
            "_view_count": null,
            "flex_flow": null,
            "width": null,
            "min_width": null,
            "border": null,
            "align_items": null,
            "bottom": null,
            "_model_module": "@jupyter-widgets/base",
            "top": null,
            "grid_column": null,
            "overflow_y": null,
            "overflow_x": null,
            "grid_auto_flow": null,
            "grid_area": null,
            "grid_template_columns": null,
            "flex": null,
            "_model_name": "LayoutModel",
            "justify_items": null,
            "grid_row": null,
            "max_height": null,
            "align_content": null,
            "visibility": null,
            "align_self": null,
            "height": null,
            "min_height": null,
            "padding": null,
            "grid_auto_rows": null,
            "grid_gap": null,
            "max_width": null,
            "order": null,
            "_view_module_version": "1.2.0",
            "grid_template_areas": null,
            "object_position": null,
            "object_fit": null,
            "grid_auto_columns": null,
            "margin": null,
            "display": null,
            "left": null
          }
        },
        "16c7a1c379e548b8bbbb7f6491701d19": {
          "model_module": "@jupyter-widgets/controls",
          "model_name": "HTMLModel",
          "model_module_version": "1.5.0",
          "state": {
            "_view_name": "HTMLView",
            "style": "IPY_MODEL_8e3f5dbc2b764a6f8d3a55f7667f2116",
            "_dom_classes": [],
            "description": "",
            "_model_name": "HTMLModel",
            "placeholder": "​",
            "_view_module": "@jupyter-widgets/controls",
            "_model_module_version": "1.5.0",
            "value": "100%",
            "_view_count": null,
            "_view_module_version": "1.5.0",
            "description_tooltip": null,
            "_model_module": "@jupyter-widgets/controls",
            "layout": "IPY_MODEL_188e8e2dd26d4306befa390d79d1927c"
          }
        },
        "ca01e25772c444259a8b4ac37e508a37": {
          "model_module": "@jupyter-widgets/controls",
          "model_name": "FloatProgressModel",
          "model_module_version": "1.5.0",
          "state": {
            "_view_name": "ProgressView",
            "style": "IPY_MODEL_55b1a1f4af184e92b0259963338cf6cb",
            "_dom_classes": [],
            "description": "",
            "_model_name": "FloatProgressModel",
            "bar_style": "danger",
            "max": 10000,
            "_view_module": "@jupyter-widgets/controls",
            "_model_module_version": "1.5.0",
            "value": 9999,
            "_view_count": null,
            "_view_module_version": "1.5.0",
            "orientation": "horizontal",
            "min": 0,
            "description_tooltip": null,
            "_model_module": "@jupyter-widgets/controls",
            "layout": "IPY_MODEL_13ac75b1ab2a45ed8ade9da275d4d7aa"
          }
        },
        "0afceff2412843b9af47e480ea7190c6": {
          "model_module": "@jupyter-widgets/controls",
          "model_name": "HTMLModel",
          "model_module_version": "1.5.0",
          "state": {
            "_view_name": "HTMLView",
            "style": "IPY_MODEL_129e5ffcf722413e915346ae1df5efce",
            "_dom_classes": [],
            "description": "",
            "_model_name": "HTMLModel",
            "placeholder": "​",
            "_view_module": "@jupyter-widgets/controls",
            "_model_module_version": "1.5.0",
            "value": " 9999/10000 [00:00&lt;00:00, 33385.81 examples/s]",
            "_view_count": null,
            "_view_module_version": "1.5.0",
            "description_tooltip": null,
            "_model_module": "@jupyter-widgets/controls",
            "layout": "IPY_MODEL_9f6ea314b78340f7a28d3de0d9a4737c"
          }
        },
        "8e3f5dbc2b764a6f8d3a55f7667f2116": {
          "model_module": "@jupyter-widgets/controls",
          "model_name": "DescriptionStyleModel",
          "model_module_version": "1.5.0",
          "state": {
            "_view_name": "StyleView",
            "_model_name": "DescriptionStyleModel",
            "description_width": "",
            "_view_module": "@jupyter-widgets/base",
            "_model_module_version": "1.5.0",
            "_view_count": null,
            "_view_module_version": "1.2.0",
            "_model_module": "@jupyter-widgets/controls"
          }
        },
        "188e8e2dd26d4306befa390d79d1927c": {
          "model_module": "@jupyter-widgets/base",
          "model_name": "LayoutModel",
          "model_module_version": "1.2.0",
          "state": {
            "_view_name": "LayoutView",
            "grid_template_rows": null,
            "right": null,
            "justify_content": null,
            "_view_module": "@jupyter-widgets/base",
            "overflow": null,
            "_model_module_version": "1.2.0",
            "_view_count": null,
            "flex_flow": null,
            "width": null,
            "min_width": null,
            "border": null,
            "align_items": null,
            "bottom": null,
            "_model_module": "@jupyter-widgets/base",
            "top": null,
            "grid_column": null,
            "overflow_y": null,
            "overflow_x": null,
            "grid_auto_flow": null,
            "grid_area": null,
            "grid_template_columns": null,
            "flex": null,
            "_model_name": "LayoutModel",
            "justify_items": null,
            "grid_row": null,
            "max_height": null,
            "align_content": null,
            "visibility": null,
            "align_self": null,
            "height": null,
            "min_height": null,
            "padding": null,
            "grid_auto_rows": null,
            "grid_gap": null,
            "max_width": null,
            "order": null,
            "_view_module_version": "1.2.0",
            "grid_template_areas": null,
            "object_position": null,
            "object_fit": null,
            "grid_auto_columns": null,
            "margin": null,
            "display": null,
            "left": null
          }
        },
        "55b1a1f4af184e92b0259963338cf6cb": {
          "model_module": "@jupyter-widgets/controls",
          "model_name": "ProgressStyleModel",
          "model_module_version": "1.5.0",
          "state": {
            "_view_name": "StyleView",
            "_model_name": "ProgressStyleModel",
            "description_width": "",
            "_view_module": "@jupyter-widgets/base",
            "_model_module_version": "1.5.0",
            "_view_count": null,
            "_view_module_version": "1.2.0",
            "bar_color": null,
            "_model_module": "@jupyter-widgets/controls"
          }
        },
        "13ac75b1ab2a45ed8ade9da275d4d7aa": {
          "model_module": "@jupyter-widgets/base",
          "model_name": "LayoutModel",
          "model_module_version": "1.2.0",
          "state": {
            "_view_name": "LayoutView",
            "grid_template_rows": null,
            "right": null,
            "justify_content": null,
            "_view_module": "@jupyter-widgets/base",
            "overflow": null,
            "_model_module_version": "1.2.0",
            "_view_count": null,
            "flex_flow": null,
            "width": null,
            "min_width": null,
            "border": null,
            "align_items": null,
            "bottom": null,
            "_model_module": "@jupyter-widgets/base",
            "top": null,
            "grid_column": null,
            "overflow_y": null,
            "overflow_x": null,
            "grid_auto_flow": null,
            "grid_area": null,
            "grid_template_columns": null,
            "flex": null,
            "_model_name": "LayoutModel",
            "justify_items": null,
            "grid_row": null,
            "max_height": null,
            "align_content": null,
            "visibility": null,
            "align_self": null,
            "height": null,
            "min_height": null,
            "padding": null,
            "grid_auto_rows": null,
            "grid_gap": null,
            "max_width": null,
            "order": null,
            "_view_module_version": "1.2.0",
            "grid_template_areas": null,
            "object_position": null,
            "object_fit": null,
            "grid_auto_columns": null,
            "margin": null,
            "display": null,
            "left": null
          }
        },
        "129e5ffcf722413e915346ae1df5efce": {
          "model_module": "@jupyter-widgets/controls",
          "model_name": "DescriptionStyleModel",
          "model_module_version": "1.5.0",
          "state": {
            "_view_name": "StyleView",
            "_model_name": "DescriptionStyleModel",
            "description_width": "",
            "_view_module": "@jupyter-widgets/base",
            "_model_module_version": "1.5.0",
            "_view_count": null,
            "_view_module_version": "1.2.0",
            "_model_module": "@jupyter-widgets/controls"
          }
        },
        "9f6ea314b78340f7a28d3de0d9a4737c": {
          "model_module": "@jupyter-widgets/base",
          "model_name": "LayoutModel",
          "model_module_version": "1.2.0",
          "state": {
            "_view_name": "LayoutView",
            "grid_template_rows": null,
            "right": null,
            "justify_content": null,
            "_view_module": "@jupyter-widgets/base",
            "overflow": null,
            "_model_module_version": "1.2.0",
            "_view_count": null,
            "flex_flow": null,
            "width": null,
            "min_width": null,
            "border": null,
            "align_items": null,
            "bottom": null,
            "_model_module": "@jupyter-widgets/base",
            "top": null,
            "grid_column": null,
            "overflow_y": null,
            "overflow_x": null,
            "grid_auto_flow": null,
            "grid_area": null,
            "grid_template_columns": null,
            "flex": null,
            "_model_name": "LayoutModel",
            "justify_items": null,
            "grid_row": null,
            "max_height": null,
            "align_content": null,
            "visibility": null,
            "align_self": null,
            "height": null,
            "min_height": null,
            "padding": null,
            "grid_auto_rows": null,
            "grid_gap": null,
            "max_width": null,
            "order": null,
            "_view_module_version": "1.2.0",
            "grid_template_areas": null,
            "object_position": null,
            "object_fit": null,
            "grid_auto_columns": null,
            "margin": null,
            "display": null,
            "left": null
          }
        }
      }
    }
  },
  "cells": [
    {
      "cell_type": "markdown",
      "metadata": {
        "id": "view-in-github",
        "colab_type": "text"
      },
      "source": [
        "<a href=\"https://colab.research.google.com/github/comaraDOTcom/machine-vision/blob/main/deep-learning/Etivity_assignment2.ipynb\" target=\"_parent\"><img src=\"https://colab.research.google.com/assets/colab-badge.svg\" alt=\"Open In Colab\"/></a>"
      ]
    },
    {
      "cell_type": "markdown",
      "metadata": {
        "id": "UV2zvcIkzePY"
      },
      "source": [
        "## Etivity 2\n",
        "Name: Conor O'Mara  \n",
        "Student number: 20151845"
      ]
    },
    {
      "cell_type": "markdown",
      "metadata": {
        "id": "qMd1Rc3eDwBP"
      },
      "source": [
        "# Etivity 2: Deep Convolutional Neural Network on CIFAR-10 Dataset\n",
        "\n",
        "In this assignment, we will gain some practical experience of coding a deep convolutional neural network in Tensorflow. The simplest way to code a network is to use the High level Keras API within Tensorflow 2.5.  \n",
        "\n",
        "## (a) Introduction\n",
        "\n",
        " In this assignment to reduce training time and computation, we will train our network using the simple [CIFAR10](https://www.cs.toronto.edu/~kriz/cifar.html) dataset.\n",
        "![link text](https://paperswithcode.com/media/datasets/CIFAR-10-0000000431-b71f61c0_U5n3Glr.jpg)\n",
        "\n",
        "The goal of this Etivity is to build and train your own Deep Convolutional Neural Network. This notebook contains standard keras/Tensorflow code to perform data processing, training set up and testing metrics, as outlined in the steps below. This will allow you to focus on developing the architecture & code for your network. \n",
        "\n",
        "1. Load Dataset - We will import the CIFAR-10 Dataset using the Tensorflow Data Set API.\n",
        "2. Prepare Data - We will slightly modify the dataset before it is sent to the model for training.\n",
        "3. Model Coding - We will write code to build the model using the Tensorflow keras API.\n",
        "  * **You will code your neural network model in this section**\n",
        "4. Compile Model - We will compile the model and verify that it has been correctly constructed.\n",
        "5. Train Model - We will train the model using the imported dataset.\n",
        "6. Test Model - We test the model on the training data and obtain a classification report and confusion matrix.\n",
        "\n",
        "The principal resource for understanding the basics of how to code & train Deep Convolutional Neural Network architectures in Tensorflow/keras are the Tensorflow tutorials. Tutorials on [image classification](https://www.tensorflow.org/tutorials/images/classification) and [data augmentation](https://www.tensorflow.org/tutorials/images/data_augmentation) are useful for this Etivity.  "
      ]
    },
    {
      "cell_type": "markdown",
      "metadata": {
        "id": "XKjhi09Kfwem"
      },
      "source": [
        "\n",
        "## (b) Notes on Architecture selection & development\n",
        "\n",
        "A key task in this Etivity is selecting an appropriate architecture. You can base your archicture on any of the types seen in the lecture notes or published literature. It is however recommended to ensure you can get a standard CNN type architecture to successfully train before attempting a more complex architecture or adding further enhancements to your network to improve performance.\n",
        "   Many published networks are designed to work with larger sized input images (e.g. 224 x 224). Often large (e.g. 7 x 7) convolution kernels and pooling layers are first applied to the input image, which agressively reduce the spatial dimensions of the network. As the CIFAR-10 dataset only has 32 x 32 images, it is recommended that just an intial 3 x 3 convolution is applied to the input image (as shown in the figure below), which will preserve the spatial dimensions of the input, before any other layers are added. It is expected that as you add more layers to the network the spatial dimensions will reduce and there will also be a corresponding increase the number of channels of the output feature map. The architecture will end with a [global average pooling layer](https://arxiv.org/pdf/1312.4400.pdf) and a fully-connected layer (called a *dense* layer in Keras/Tensorflow) with softmax activation which gives us our 10 class predictions. A skeleton code has been provided for any general architure using this structure in section 3.\n",
        "![link text](https://github.com/tonyscan6003/CE6003/blob/master/images/Architecture_outline.jpg?raw=true)\n"
      ]
    },
    {
      "cell_type": "markdown",
      "metadata": {
        "id": "-usCVtcvZ1jF"
      },
      "source": [
        "#House Keeping"
      ]
    },
    {
      "cell_type": "code",
      "metadata": {
        "id": "HCZcWwiaDOGa"
      },
      "source": [
        "from __future__ import print_function\n",
        "\n",
        "%tensorflow_version 2.x\n",
        "import tensorflow as tf\n",
        "import matplotlib.pyplot as plt\n",
        "import tensorflow.keras as keras\n",
        "from tensorflow.keras.layers import Dense, Conv2D, BatchNormalization, Activation, RandomFlip, RandomTranslation\n",
        "from tensorflow.keras.layers import GlobalAveragePooling2D, AveragePooling2D, Input, Flatten, MaxPooling2D, Dropout\n",
        "from tensorflow.keras.optimizers import Adam\n",
        "from tensorflow.keras.regularizers import l2\n",
        "from tensorflow.keras import backend as K\n",
        "from tensorflow.keras.models import Model\n",
        "from tensorflow.keras.datasets import cifar10\n",
        "\n",
        "import numpy as np"
      ],
      "execution_count": 16,
      "outputs": []
    },
    {
      "cell_type": "markdown",
      "metadata": {
        "id": "4odR82ILcVxX"
      },
      "source": [
        "To ensure this assignment runs as fast as possible, from the menu above select **Edit > Notebook settings** or **Runtime > Change runtime type** and select GPU as the Hardware accelerator option.\n",
        "\n",
        "Let's test that we are running using the GPU. "
      ]
    },
    {
      "cell_type": "code",
      "metadata": {
        "id": "pf087-5LcYXc",
        "colab": {
          "base_uri": "https://localhost:8080/",
          "height": 35
        },
        "outputId": "bd8a8371-3814-4001-caaa-67a98eeecee3"
      },
      "source": [
        "tf.test.gpu_device_name()"
      ],
      "execution_count": 2,
      "outputs": [
        {
          "output_type": "execute_result",
          "data": {
            "application/vnd.google.colaboratory.intrinsic+json": {
              "type": "string"
            },
            "text/plain": [
              "'/device:GPU:0'"
            ]
          },
          "metadata": {},
          "execution_count": 2
        }
      ]
    },
    {
      "cell_type": "markdown",
      "metadata": {
        "id": "U1AqzPcvPIMZ"
      },
      "source": [
        "#1. Load Dataset\n",
        "\n",
        "In this assignment, we will be using the [CIFAR-10 dataset](http://www.cs.toronto.edu/~kriz/cifar.htmlhttps://). CIFAR-10 is often used as a \"Hello World\" dataset that is often used to ensure a network architecture is working before moving on to training with more complex datasets.\n",
        "\n",
        "The CIFAR-10 dataset consists of 60,000 32x32 color images in 10 classes (airplane, automobile, **bird**, cat, deer, dog, frog, horse, ship, truck), with 6,000 images per class. There are 50,000 training images and 10,000 test images. \n",
        "\n",
        "We will use the [Tensorflow dataset](https://www.tensorflow.org/datasets/catalog/cifar10) API to download the CIFAR10 dataset."
      ]
    },
    {
      "cell_type": "code",
      "metadata": {
        "id": "dBHnROl5fL2B"
      },
      "source": [
        "batch_size = 32 # Default Batch size (can be adjusted)\n",
        "H_trg =32       # Image Height (fixed)\n",
        "W_trg =32       # image Width (fixed)\n",
        "\n",
        "# Labels corresponding to categories\n",
        "label_str = ('airplane', 'automobile', 'bird', 'cat', 'deer', 'dog', 'frog', 'horse', 'ship', 'truck')"
      ],
      "execution_count": 3,
      "outputs": []
    },
    {
      "cell_type": "code",
      "metadata": {
        "id": "Ld6vWvOVeqN0",
        "colab": {
          "base_uri": "https://localhost:8080/",
          "height": 296,
          "referenced_widgets": [
            "60907296133b407caa2ee1c58e80f255",
            "a12d0e3bd2774bd98371b77801cba497",
            "6a05d0f74ca1429090a7e675f5289ee0",
            "133132f80fc740c2b49b28bf6006d47a",
            "9e4eef4af7904c718c31e185d2fb6c5f",
            "497fccf7af144ab98a51f5e75f78600b",
            "48b744e9203d4c098f763d207017e020",
            "94c84a5691144118a5d9ff1d01d8f6b7",
            "4e2455cbc85a41fbba7f179244901da2",
            "8e9c042a0e8247819a466e8a26a18cc5",
            "ce345d05c1694ed283bd75b4e5d69290",
            "46164b9650df4b549c28fa77bcd9639c",
            "17716b4ca0134284b5ed816a9fb1a3c9",
            "9ab5330d3b5b4852bfd53039335f10fc",
            "74f38f3d17914228a4dd7cbc245f263c",
            "ffa9339b3c8448d095159b7cc6ca4a2b",
            "59d4655694944b8a817b212eaf238cb7",
            "9d0ec645626049908165f16fa4184a74",
            "5c2b98c133814faba1fcfbae08ec8806",
            "018d509f1fd44ef0871588bf8c04f0bc",
            "9c1144f1235d4034a2e0c6cd153edc48",
            "ea9842e395b24bd2926aaa3d4a6609ee",
            "15e475f62c7347908b0964ca347e9fe8",
            "a470874e9a344a16a9566bd0b5ca8c49",
            "bc802133f1b7402eaa83778d2f78b6e5",
            "3e1a4331e0dc43fcbf4fcef7b0e5c154",
            "5e8ba93529be48f881fdfa6021b82912",
            "9e684d1032994136a7528bbbe0b61b1c",
            "7571a6e13c4e4173a3cc53767feb093f",
            "ba26fdb4b5624ba9b712f62a97ad28c4",
            "6b1ba84c1ab34d0ca0bb2f1ffc1d64e3",
            "8384c44adb0b4adabdbacd43119a4751",
            "58b80f2a4caf4516b98193fc78234d15",
            "8a74655d04c54734a7f3b538983ea57b",
            "a52d17a2752e4fc78a8a80295e9954e6",
            "483502d87a1948019eb2ac0ebb66477f",
            "5a4cda41a7904664968fa618af39f4b7",
            "528e1ff935cf4262a165e05cefeb33b9",
            "5925d984e5994d37890434fb6a0b7589",
            "c1083bb3328a42b2bf7e5c7ab4722481",
            "c083d82524f8447f87192bf715402181",
            "44a118753b16432f82f61967a0e7ee3a",
            "36984c5820294d75a35881958f30e2bf",
            "053ec1318de444548eaf80687b015601",
            "018611bdf0ab4ac380dff977525901dc",
            "e4daafce099b4e66b322341d27b23d31",
            "3cd2ddca47544c6c8ae5fe141da37ed0",
            "ecefb29f310c425784f39ae820e12db5",
            "d29b443d1a2a4232b21a6df22ba87247",
            "8e2de714e17941e082933491098dc3f7",
            "353aa18ccded46bdacfe12325892b32a",
            "bb65ea611d76478fbd92d8856ae2da87",
            "aa411b14ea8d4ef1b31888f23227010b",
            "82adf591b5ab49d28b872ec2b49e24cc",
            "df736b9c1de346da872d045e5bdf1336",
            "7ef388e0f5df45068af0a7a63f239489",
            "e038786b04fa49fbaeba8b8e4aa6d111",
            "c4ca0a3d157e4a418409f5419cee3bed",
            "12ef973390cb470095655b8a2a379e35",
            "167d507ca536456c9bcaad94712826dc",
            "03a22763be854228bfd47cd4eb5a1133",
            "d3b602708d374184bb085808da880206",
            "f7a8f244b3b84e17b1b2328390399ae7",
            "3220fae44f944d0e8b66995c4a5c74f2",
            "d8a61d05d7d94c589ee072927e35c089",
            "3d40a8a31e4444aaaadb43e31b9217c6",
            "ba3cdb1b13754dcfbd0876597426de91",
            "b31a465e5ccb4a18b1c8e50dbbfa53f4",
            "16c7a1c379e548b8bbbb7f6491701d19",
            "ca01e25772c444259a8b4ac37e508a37",
            "0afceff2412843b9af47e480ea7190c6",
            "8e3f5dbc2b764a6f8d3a55f7667f2116",
            "188e8e2dd26d4306befa390d79d1927c",
            "55b1a1f4af184e92b0259963338cf6cb",
            "13ac75b1ab2a45ed8ade9da275d4d7aa",
            "129e5ffcf722413e915346ae1df5efce",
            "9f6ea314b78340f7a28d3de0d9a4737c"
          ]
        },
        "outputId": "0dbd0cd4-4db4-4396-c982-f666d59f22ff"
      },
      "source": [
        "# We initally load the raw training/validation/test dataset\n",
        "import tensorflow_datasets as tfds\n",
        "ds,info= tfds.load(\"cifar10\",with_info=True)\n",
        "\n",
        "raw_train = tfds.load('cifar10', split='train[0%:90%]')\n",
        "raw_val = tfds.load('cifar10', split='train[91%:100%]')\n",
        "raw_test = tfds.load('cifar10', split='test')"
      ],
      "execution_count": 4,
      "outputs": [
        {
          "output_type": "stream",
          "name": "stdout",
          "text": [
            "\u001b[1mDownloading and preparing dataset cifar10/3.0.2 (download: 162.17 MiB, generated: 132.40 MiB, total: 294.58 MiB) to /root/tensorflow_datasets/cifar10/3.0.2...\u001b[0m\n"
          ]
        },
        {
          "output_type": "display_data",
          "data": {
            "application/vnd.jupyter.widget-view+json": {
              "model_id": "60907296133b407caa2ee1c58e80f255",
              "version_minor": 0,
              "version_major": 2
            },
            "text/plain": [
              "Dl Completed...: 0 url [00:00, ? url/s]"
            ]
          },
          "metadata": {}
        },
        {
          "output_type": "display_data",
          "data": {
            "application/vnd.jupyter.widget-view+json": {
              "model_id": "46164b9650df4b549c28fa77bcd9639c",
              "version_minor": 0,
              "version_major": 2
            },
            "text/plain": [
              "Dl Size...: 0 MiB [00:00, ? MiB/s]"
            ]
          },
          "metadata": {}
        },
        {
          "output_type": "display_data",
          "data": {
            "application/vnd.jupyter.widget-view+json": {
              "model_id": "15e475f62c7347908b0964ca347e9fe8",
              "version_minor": 0,
              "version_major": 2
            },
            "text/plain": [
              "Extraction completed...: 0 file [00:00, ? file/s]"
            ]
          },
          "metadata": {}
        },
        {
          "output_type": "stream",
          "name": "stdout",
          "text": [
            "\n",
            "\n",
            "\n"
          ]
        },
        {
          "output_type": "display_data",
          "data": {
            "application/vnd.jupyter.widget-view+json": {
              "model_id": "8a74655d04c54734a7f3b538983ea57b",
              "version_minor": 0,
              "version_major": 2
            },
            "text/plain": [
              "0 examples [00:00, ? examples/s]"
            ]
          },
          "metadata": {}
        },
        {
          "output_type": "stream",
          "name": "stdout",
          "text": [
            "Shuffling and writing examples to /root/tensorflow_datasets/cifar10/3.0.2.incomplete646DP3/cifar10-train.tfrecord\n"
          ]
        },
        {
          "output_type": "display_data",
          "data": {
            "application/vnd.jupyter.widget-view+json": {
              "model_id": "018611bdf0ab4ac380dff977525901dc",
              "version_minor": 0,
              "version_major": 2
            },
            "text/plain": [
              "  0%|          | 0/50000 [00:00<?, ? examples/s]"
            ]
          },
          "metadata": {}
        },
        {
          "output_type": "display_data",
          "data": {
            "application/vnd.jupyter.widget-view+json": {
              "model_id": "7ef388e0f5df45068af0a7a63f239489",
              "version_minor": 0,
              "version_major": 2
            },
            "text/plain": [
              "0 examples [00:00, ? examples/s]"
            ]
          },
          "metadata": {}
        },
        {
          "output_type": "stream",
          "name": "stdout",
          "text": [
            "Shuffling and writing examples to /root/tensorflow_datasets/cifar10/3.0.2.incomplete646DP3/cifar10-test.tfrecord\n"
          ]
        },
        {
          "output_type": "display_data",
          "data": {
            "application/vnd.jupyter.widget-view+json": {
              "model_id": "ba3cdb1b13754dcfbd0876597426de91",
              "version_minor": 0,
              "version_major": 2
            },
            "text/plain": [
              "  0%|          | 0/10000 [00:00<?, ? examples/s]"
            ]
          },
          "metadata": {}
        },
        {
          "output_type": "stream",
          "name": "stdout",
          "text": [
            "\u001b[1mDataset cifar10 downloaded and prepared to /root/tensorflow_datasets/cifar10/3.0.2. Subsequent calls will reuse this data.\u001b[0m\n"
          ]
        }
      ]
    },
    {
      "cell_type": "markdown",
      "metadata": {
        "id": "5B4yeoJHft0Y"
      },
      "source": [
        "# 2. Prepare Data\n",
        "\n",
        "After importing raw datasets using tfds load, we create an input pipeline that processes & batches this data before it is supplied to the model for training using the virtual machine GPU."
      ]
    },
    {
      "cell_type": "code",
      "metadata": {
        "id": "f6PNR8vgetEi"
      },
      "source": [
        "\n",
        "def data_pipe(image,label):\n",
        "  image = tf.image.convert_image_dtype(image, tf.float32) # Cast and normalize the image to [0,1]\n",
        "  image = image-0.5\n",
        "  label = tf.cast(label, tf.float32)\n",
        "  return image,label\n"
      ],
      "execution_count": 5,
      "outputs": []
    },
    {
      "cell_type": "code",
      "metadata": {
        "id": "WNzCKI8ffVSK"
      },
      "source": [
        "def gen_tr_datasets(src_dataset):    \n",
        "    # Define Datasets \n",
        "    #src_dataset = src_dataset.shuffle(num_train_examples) \n",
        "    tr_dataset = src_dataset.map(lambda x: (x['image'],x['label']))  \n",
        "    tr_dataset = tr_dataset.map(data_pipe)\n",
        "    tr_dataset = tr_dataset.batch(batch_size) \n",
        "    return tr_dataset\n",
        "\n",
        "def gen_val_datasets(src_dataset): \n",
        "    # Define Datasets \n",
        "    test_dataset = src_dataset.map(lambda x: (x['image'],x['label']))  \n",
        "    test_dataset = test_dataset.map(data_pipe)\n",
        "    test_dataset = test_dataset.batch(batch_size) \n",
        "    return test_dataset\n",
        "# Generate the datasets\n",
        "train_dataset = gen_tr_datasets(raw_train)\n",
        "val_dataset = gen_val_datasets(raw_val)\n",
        "test_dataset = gen_val_datasets(raw_test)"
      ],
      "execution_count": 6,
      "outputs": []
    },
    {
      "cell_type": "markdown",
      "metadata": {
        "id": "Cj_HusiXhura"
      },
      "source": [
        "Plot some examples of the training dataset."
      ]
    },
    {
      "cell_type": "code",
      "metadata": {
        "id": "i4N4NNA9fZMU",
        "colab": {
          "base_uri": "https://localhost:8080/",
          "height": 125
        },
        "outputId": "9e28d78c-9652-4fde-8ccd-d8cb49f7fd1d"
      },
      "source": [
        "# plot training examples\n",
        "i=0\n",
        "n_plots = 12 # number of plots\n",
        "f, axarr = plt.subplots(1,n_plots,figsize=(20,10))\n",
        "\n",
        "for image, label in train_dataset.take(n_plots):  # Only take a single example\n",
        "  axarr[i].imshow(image[0,:,:,:]+0.5)\n",
        "  axarr[i].axis('off')\n",
        "  axarr[i].title.set_text(label_str[int(label[0])])\n",
        "  i = i+1"
      ],
      "execution_count": 7,
      "outputs": [
        {
          "output_type": "display_data",
          "data": {
            "image/png": "[encoded data removed]",
            "text/plain": [
              "<Figure size 1440x720 with 12 Axes>"
            ]
          },
          "metadata": {
            "needs_background": "light"
          }
        }
      ]
    },
    {
      "cell_type": "markdown",
      "metadata": {
        "id": "UfRKrY53rCdh"
      },
      "source": [
        "# 3. Model Coding\n",
        "\n",
        "In this section You may develop your own model architecture to perform image recognition with the CIFAR-10 Dataset.\n",
        "\n",
        "There are some recommendations and helper code in this section that you may choose use, or you can also use your own approach to creating your architecture. \n",
        "\n",
        "Please Leave a note at the end of the notebook explaining your approach/results for the e-moderator."
      ]
    },
    {
      "cell_type": "markdown",
      "metadata": {
        "id": "Or_1E25YFrdA"
      },
      "source": [
        "\n",
        "\n",
        "\n",
        "\n",
        " \n",
        "## Note 1: Keras Function/Sequential API\n",
        "\n",
        "Within Keras there are two API's for coding network models: Sequential and functional. You may have already used the [seqential model](https://https://www.tensorflow.org/guide/keras/sequential_model) to code basic artifical neural networks. The [functional model](https://www.tensorflow.org/guide/keras/functional) is more general and enables us to include feedforward paths which are required to code more advanced networks such as ResNet or DenseNet. The functional API has been used to code the helper functions repeating unit/top level skeleton detailed below.\n",
        "\n",
        "## Note 2: Repeating Unit\n",
        "\n",
        "In many Deep architectures there will often be a repeating unit(s) that is composed of a sequence of layers, for example Conv,ReLU & Batch Normalisation. Specific layers can be turned on or off as required. This also allows experimentation of the entire architecture with/without specific layers (e.g. Batch Normalisation)  You may wish to create other combinations of layers or additional repeating units depending on your architecture.\n",
        "\n",
        "In the code cell below we can see an example of a `repeat_unit` function where the number of kernel filters and kernel size is specified. Batch Normalisation and activation layers can be turned on/off as required.\n",
        "\n",
        " * Convolutional Layers are described [here](https://www.tensorflow.org/api_docs/python/tf/keras/layers/Conv2D) \n",
        " * Batch Normalization layers are described [here](https://www.tensorflow.org/api_docs/python/tf/keras/layers/BatchNormalization) \n",
        " * Activation layers are described [here](https://www.tensorflow.org/api_docs/python/tf/keras/layers/Activation) \n",
        " "
      ]
    },
    {
      "cell_type": "code",
      "metadata": {
        "id": "kFwDIngPfrww"
      },
      "source": [
        "# Example of a Basic Repeating unit\n",
        "\n",
        "def repeat_unit(inputs, num_channels=16, kernel_size=3,\n",
        "                 strides=1, activation='relu', batch_normalization=False):\n",
        "    \"\"\"\n",
        "    inputs: Input to repeat unit.\n",
        "    num_channels: number of channels in convolution layer of repeat unit, nominally = 16\n",
        "    kernel_size: number of kernels to use in convolution, nominally = 3\n",
        "    strides: number of strides for kernel, nominally = 1\n",
        "    activation: type of activation applied to output of convolution, nominally ReLU. \n",
        "    x = output of repeat_unit\n",
        "    \"\"\"\n",
        "    conv = Conv2D(num_channels, kernel_size=kernel_size, strides=strides, padding='same',\n",
        "                  kernel_initializer='he_normal')\n",
        "    x = conv(inputs)\n",
        "    \n",
        "    if activation is not None:\n",
        "        x = Activation(activation)(x)\n",
        "\n",
        "    if batch_normalization:\n",
        "        x = BatchNormalization()(x)\n",
        "\n",
        "    return x\n"
      ],
      "execution_count": 8,
      "outputs": []
    },
    {
      "cell_type": "code",
      "metadata": {
        "id": "mM5ycX4bOaXT"
      },
      "source": [
        "def resnet_block(inputs, num_channels=16, kernel_size=3):\n",
        "\n",
        "  x_shortcut = inputs # Store the initial value of X in a variable\n",
        "  ## P3 repeat units \n",
        "  x = repeat_unit(inputs, num_channels=num_channels, kernel_size=kernel_size, strides = 1, activation='relu', batch_normalization=True)\n",
        "  x = repeat_unit(x, num_channels=num_channels, kernel_size=kernel_size, strides = 1, activation='relu', batch_normalization=True)\n",
        "  x = repeat_unit(x, num_channels=num_channels, kernel_size=kernel_size, strides = 1, activation=None, batch_normalization=True)\n",
        "\n",
        "  x = keras.layers.Add()([x, x_shortcut]) # SKIP Connection\n",
        "\n",
        "  x = Activation('relu')(x)\n",
        "  return x"
      ],
      "execution_count": 19,
      "outputs": []
    },
    {
      "cell_type": "markdown",
      "metadata": {
        "id": "pFvVHWvWagSN"
      },
      "source": [
        "## Note 3: Top Level\n",
        "\n",
        "In the code cell below, an incomplete skeleton function is provided for your top level.  \n",
        "* This uses the Keras functional API\n",
        "* A single repeating unit which does not reduce the spatial dimensions of the input is placed at the top of the stack. You can change the number of channels/kernel size to suit your own architecture.\n",
        "* You can add your own layers/repeating units etc to build your own architecture with the function.\n",
        "* At the end of the stack we add a [global average pooling layer](https://www.tensorflow.org/api_docs/python/tf/keras/layers/GlobalAveragePooling2D) and fully connected [(Dense)](https://www.tensorflow.org/api_docs/python/tf/keras/layers/Dense) layer with softmax activation. (Alternatively to the Global Average pooling Dense layers can be used, this approach uses more parameter (memory) and is commonly seen in earlier Deeep Learning architectures such as AlexNet)"
      ]
    },
    {
      "cell_type": "code",
      "metadata": {
        "id": "BwPACVhkf0uF"
      },
      "source": [
        "def network_top(input_shape,num_classes=10):\n",
        "    \"\"\"\n",
        "    input Shape: (Define H,W, no. channels) of network input\n",
        "                 used in Input definition below\n",
        "    num_classes: Default = 10, sets output classes of network,\n",
        "                 set to same no. of classes as CIFAR 10 Dataset \n",
        "    model:       keras Model returned by this function.                          \n",
        "    \"\"\"\n",
        "       \n",
        "    # Define input of model\n",
        "    inputs = Input(shape=input_shape)\n",
        "\n",
        "    # Add First repeating Unit\n",
        "    x = repeat_unit(inputs=inputs, num_channels=16, batch_normalization=True)\n",
        "  \n",
        "\n",
        "    ######## Add more layers/repeating units to build your Architecture here ##################  \n",
        "    # Layer conv2_x - 3 blocks - no channel increase - no downsampling\n",
        "    x = resnet_block(x, num_channels=16)\n",
        "    x = resnet_block(x, num_channels=16)\n",
        "    x = resnet_block(x, num_channels=16)\n",
        "\n",
        "\n",
        "    x = resnet_block(x, num_channels=16)\n",
        "    x = resnet_block(x, num_channels=16)\n",
        "    x = resnet_block(x, num_channels=16)\n",
        "\n",
        "    x = resnet_block(x, num_channels=16)\n",
        "    x = resnet_block(x, num_channels=16)\n",
        "    x = resnet_block(x, num_channels=16)\n",
        "\n",
        "    # Add final stages. (Ensure that you call the output of the very last layer outputs)\n",
        "    x = AveragePooling2D(pool_size=8)(x)\n",
        "    x = Flatten()(x)\n",
        "    outputs = Dense(num_classes, activation='softmax', kernel_initializer='he_normal')(x)\n",
        "\n",
        "\n",
        "    # Model definition\n",
        "    model = Model(inputs=inputs, outputs=outputs)\n",
        "    return model"
      ],
      "execution_count": 23,
      "outputs": []
    },
    {
      "cell_type": "markdown",
      "metadata": {
        "id": "661APuAef2p4"
      },
      "source": [
        "# 4. Compile the Model\n",
        "Now that we have defined our functions to create the model, we'll instantiate the model and compile it.  Note that the compiling step in Keras, also configures the model for training. We define  loss function, the optimizer and metrics. \n",
        "\n",
        "Note the use here of [Sparse Categorical Crossentropy](https://www.tensorflow.org/api_docs/python/tf/keras/losses/SparseCategoricalCrossentropy). This loss function allows us to input integer values for true classes. With the regular categorical cross entropy loss function the supplied labels must be frist converted to a one-hot representation,  but this special loss function allows us to avoid manually converting to the one-hot representation.\n"
      ]
    },
    {
      "cell_type": "code",
      "metadata": {
        "id": "xyCg5D0sf6E1",
        "colab": {
          "base_uri": "https://localhost:8080/"
        },
        "outputId": "3eb8d6e7-0792-4407-ab26-b7c44060c132"
      },
      "source": [
        "input_shape = (32,32,3)\n",
        "model = network_top(input_shape=input_shape)\n",
        "model.compile(loss='SparseCategoricalCrossentropy', optimizer=Adam(), metrics=['accuracy'])\n",
        "model.summary()\n",
        "\n",
        "# Uncomment the following line to plot the model visually - warning this may be quite large!\n",
        "# keras.utils.plot_model(model, dpi=48)\n"
      ],
      "execution_count": 24,
      "outputs": [
        {
          "output_type": "stream",
          "name": "stdout",
          "text": [
            "Model: \"model\"\n",
            "__________________________________________________________________________________________________\n",
            " Layer (type)                   Output Shape         Param #     Connected to                     \n",
            "==================================================================================================\n",
            " input_5 (InputLayer)           [(None, 32, 32, 3)]  0           []                               \n",
            "                                                                                                  \n",
            " conv2d_40 (Conv2D)             (None, 32, 32, 16)   448         ['input_5[0][0]']                \n",
            "                                                                                                  \n",
            " activation_37 (Activation)     (None, 32, 32, 16)   0           ['conv2d_40[0][0]']              \n",
            "                                                                                                  \n",
            " batch_normalization_40 (BatchN  (None, 32, 32, 16)  64          ['activation_37[0][0]']          \n",
            " ormalization)                                                                                    \n",
            "                                                                                                  \n",
            " conv2d_41 (Conv2D)             (None, 32, 32, 16)   2320        ['batch_normalization_40[0][0]'] \n",
            "                                                                                                  \n",
            " activation_38 (Activation)     (None, 32, 32, 16)   0           ['conv2d_41[0][0]']              \n",
            "                                                                                                  \n",
            " batch_normalization_41 (BatchN  (None, 32, 32, 16)  64          ['activation_38[0][0]']          \n",
            " ormalization)                                                                                    \n",
            "                                                                                                  \n",
            " conv2d_42 (Conv2D)             (None, 32, 32, 16)   2320        ['batch_normalization_41[0][0]'] \n",
            "                                                                                                  \n",
            " activation_39 (Activation)     (None, 32, 32, 16)   0           ['conv2d_42[0][0]']              \n",
            "                                                                                                  \n",
            " batch_normalization_42 (BatchN  (None, 32, 32, 16)  64          ['activation_39[0][0]']          \n",
            " ormalization)                                                                                    \n",
            "                                                                                                  \n",
            " conv2d_43 (Conv2D)             (None, 32, 32, 16)   2320        ['batch_normalization_42[0][0]'] \n",
            "                                                                                                  \n",
            " batch_normalization_43 (BatchN  (None, 32, 32, 16)  64          ['conv2d_43[0][0]']              \n",
            " ormalization)                                                                                    \n",
            "                                                                                                  \n",
            " add_10 (Add)                   (None, 32, 32, 16)   0           ['batch_normalization_43[0][0]', \n",
            "                                                                  'batch_normalization_40[0][0]'] \n",
            "                                                                                                  \n",
            " activation_40 (Activation)     (None, 32, 32, 16)   0           ['add_10[0][0]']                 \n",
            "                                                                                                  \n",
            " conv2d_44 (Conv2D)             (None, 32, 32, 16)   2320        ['activation_40[0][0]']          \n",
            "                                                                                                  \n",
            " activation_41 (Activation)     (None, 32, 32, 16)   0           ['conv2d_44[0][0]']              \n",
            "                                                                                                  \n",
            " batch_normalization_44 (BatchN  (None, 32, 32, 16)  64          ['activation_41[0][0]']          \n",
            " ormalization)                                                                                    \n",
            "                                                                                                  \n",
            " conv2d_45 (Conv2D)             (None, 32, 32, 16)   2320        ['batch_normalization_44[0][0]'] \n",
            "                                                                                                  \n",
            " activation_42 (Activation)     (None, 32, 32, 16)   0           ['conv2d_45[0][0]']              \n",
            "                                                                                                  \n",
            " batch_normalization_45 (BatchN  (None, 32, 32, 16)  64          ['activation_42[0][0]']          \n",
            " ormalization)                                                                                    \n",
            "                                                                                                  \n",
            " conv2d_46 (Conv2D)             (None, 32, 32, 16)   2320        ['batch_normalization_45[0][0]'] \n",
            "                                                                                                  \n",
            " batch_normalization_46 (BatchN  (None, 32, 32, 16)  64          ['conv2d_46[0][0]']              \n",
            " ormalization)                                                                                    \n",
            "                                                                                                  \n",
            " add_11 (Add)                   (None, 32, 32, 16)   0           ['batch_normalization_46[0][0]', \n",
            "                                                                  'activation_40[0][0]']          \n",
            "                                                                                                  \n",
            " activation_43 (Activation)     (None, 32, 32, 16)   0           ['add_11[0][0]']                 \n",
            "                                                                                                  \n",
            " conv2d_47 (Conv2D)             (None, 32, 32, 16)   2320        ['activation_43[0][0]']          \n",
            "                                                                                                  \n",
            " activation_44 (Activation)     (None, 32, 32, 16)   0           ['conv2d_47[0][0]']              \n",
            "                                                                                                  \n",
            " batch_normalization_47 (BatchN  (None, 32, 32, 16)  64          ['activation_44[0][0]']          \n",
            " ormalization)                                                                                    \n",
            "                                                                                                  \n",
            " conv2d_48 (Conv2D)             (None, 32, 32, 16)   2320        ['batch_normalization_47[0][0]'] \n",
            "                                                                                                  \n",
            " activation_45 (Activation)     (None, 32, 32, 16)   0           ['conv2d_48[0][0]']              \n",
            "                                                                                                  \n",
            " batch_normalization_48 (BatchN  (None, 32, 32, 16)  64          ['activation_45[0][0]']          \n",
            " ormalization)                                                                                    \n",
            "                                                                                                  \n",
            " conv2d_49 (Conv2D)             (None, 32, 32, 16)   2320        ['batch_normalization_48[0][0]'] \n",
            "                                                                                                  \n",
            " batch_normalization_49 (BatchN  (None, 32, 32, 16)  64          ['conv2d_49[0][0]']              \n",
            " ormalization)                                                                                    \n",
            "                                                                                                  \n",
            " add_12 (Add)                   (None, 32, 32, 16)   0           ['batch_normalization_49[0][0]', \n",
            "                                                                  'activation_43[0][0]']          \n",
            "                                                                                                  \n",
            " activation_46 (Activation)     (None, 32, 32, 16)   0           ['add_12[0][0]']                 \n",
            "                                                                                                  \n",
            " conv2d_50 (Conv2D)             (None, 32, 32, 16)   2320        ['activation_46[0][0]']          \n",
            "                                                                                                  \n",
            " activation_47 (Activation)     (None, 32, 32, 16)   0           ['conv2d_50[0][0]']              \n",
            "                                                                                                  \n",
            " batch_normalization_50 (BatchN  (None, 32, 32, 16)  64          ['activation_47[0][0]']          \n",
            " ormalization)                                                                                    \n",
            "                                                                                                  \n",
            " conv2d_51 (Conv2D)             (None, 32, 32, 16)   2320        ['batch_normalization_50[0][0]'] \n",
            "                                                                                                  \n",
            " activation_48 (Activation)     (None, 32, 32, 16)   0           ['conv2d_51[0][0]']              \n",
            "                                                                                                  \n",
            " batch_normalization_51 (BatchN  (None, 32, 32, 16)  64          ['activation_48[0][0]']          \n",
            " ormalization)                                                                                    \n",
            "                                                                                                  \n",
            " conv2d_52 (Conv2D)             (None, 32, 32, 16)   2320        ['batch_normalization_51[0][0]'] \n",
            "                                                                                                  \n",
            " batch_normalization_52 (BatchN  (None, 32, 32, 16)  64          ['conv2d_52[0][0]']              \n",
            " ormalization)                                                                                    \n",
            "                                                                                                  \n",
            " add_13 (Add)                   (None, 32, 32, 16)   0           ['batch_normalization_52[0][0]', \n",
            "                                                                  'activation_46[0][0]']          \n",
            "                                                                                                  \n",
            " activation_49 (Activation)     (None, 32, 32, 16)   0           ['add_13[0][0]']                 \n",
            "                                                                                                  \n",
            " conv2d_53 (Conv2D)             (None, 32, 32, 16)   2320        ['activation_49[0][0]']          \n",
            "                                                                                                  \n",
            " activation_50 (Activation)     (None, 32, 32, 16)   0           ['conv2d_53[0][0]']              \n",
            "                                                                                                  \n",
            " batch_normalization_53 (BatchN  (None, 32, 32, 16)  64          ['activation_50[0][0]']          \n",
            " ormalization)                                                                                    \n",
            "                                                                                                  \n",
            " conv2d_54 (Conv2D)             (None, 32, 32, 16)   2320        ['batch_normalization_53[0][0]'] \n",
            "                                                                                                  \n",
            " activation_51 (Activation)     (None, 32, 32, 16)   0           ['conv2d_54[0][0]']              \n",
            "                                                                                                  \n",
            " batch_normalization_54 (BatchN  (None, 32, 32, 16)  64          ['activation_51[0][0]']          \n",
            " ormalization)                                                                                    \n",
            "                                                                                                  \n",
            " conv2d_55 (Conv2D)             (None, 32, 32, 16)   2320        ['batch_normalization_54[0][0]'] \n",
            "                                                                                                  \n",
            " batch_normalization_55 (BatchN  (None, 32, 32, 16)  64          ['conv2d_55[0][0]']              \n",
            " ormalization)                                                                                    \n",
            "                                                                                                  \n",
            " add_14 (Add)                   (None, 32, 32, 16)   0           ['batch_normalization_55[0][0]', \n",
            "                                                                  'activation_49[0][0]']          \n",
            "                                                                                                  \n",
            " activation_52 (Activation)     (None, 32, 32, 16)   0           ['add_14[0][0]']                 \n",
            "                                                                                                  \n",
            " conv2d_56 (Conv2D)             (None, 32, 32, 16)   2320        ['activation_52[0][0]']          \n",
            "                                                                                                  \n",
            " activation_53 (Activation)     (None, 32, 32, 16)   0           ['conv2d_56[0][0]']              \n",
            "                                                                                                  \n",
            " batch_normalization_56 (BatchN  (None, 32, 32, 16)  64          ['activation_53[0][0]']          \n",
            " ormalization)                                                                                    \n",
            "                                                                                                  \n",
            " conv2d_57 (Conv2D)             (None, 32, 32, 16)   2320        ['batch_normalization_56[0][0]'] \n",
            "                                                                                                  \n",
            " activation_54 (Activation)     (None, 32, 32, 16)   0           ['conv2d_57[0][0]']              \n",
            "                                                                                                  \n",
            " batch_normalization_57 (BatchN  (None, 32, 32, 16)  64          ['activation_54[0][0]']          \n",
            " ormalization)                                                                                    \n",
            "                                                                                                  \n",
            " conv2d_58 (Conv2D)             (None, 32, 32, 16)   2320        ['batch_normalization_57[0][0]'] \n",
            "                                                                                                  \n",
            " batch_normalization_58 (BatchN  (None, 32, 32, 16)  64          ['conv2d_58[0][0]']              \n",
            " ormalization)                                                                                    \n",
            "                                                                                                  \n",
            " add_15 (Add)                   (None, 32, 32, 16)   0           ['batch_normalization_58[0][0]', \n",
            "                                                                  'activation_52[0][0]']          \n",
            "                                                                                                  \n",
            " activation_55 (Activation)     (None, 32, 32, 16)   0           ['add_15[0][0]']                 \n",
            "                                                                                                  \n",
            " conv2d_59 (Conv2D)             (None, 32, 32, 16)   2320        ['activation_55[0][0]']          \n",
            "                                                                                                  \n",
            " activation_56 (Activation)     (None, 32, 32, 16)   0           ['conv2d_59[0][0]']              \n",
            "                                                                                                  \n",
            " batch_normalization_59 (BatchN  (None, 32, 32, 16)  64          ['activation_56[0][0]']          \n",
            " ormalization)                                                                                    \n",
            "                                                                                                  \n",
            " conv2d_60 (Conv2D)             (None, 32, 32, 16)   2320        ['batch_normalization_59[0][0]'] \n",
            "                                                                                                  \n",
            " activation_57 (Activation)     (None, 32, 32, 16)   0           ['conv2d_60[0][0]']              \n",
            "                                                                                                  \n",
            " batch_normalization_60 (BatchN  (None, 32, 32, 16)  64          ['activation_57[0][0]']          \n",
            " ormalization)                                                                                    \n",
            "                                                                                                  \n",
            " conv2d_61 (Conv2D)             (None, 32, 32, 16)   2320        ['batch_normalization_60[0][0]'] \n",
            "                                                                                                  \n",
            " batch_normalization_61 (BatchN  (None, 32, 32, 16)  64          ['conv2d_61[0][0]']              \n",
            " ormalization)                                                                                    \n",
            "                                                                                                  \n",
            " add_16 (Add)                   (None, 32, 32, 16)   0           ['batch_normalization_61[0][0]', \n",
            "                                                                  'activation_55[0][0]']          \n",
            "                                                                                                  \n",
            " activation_58 (Activation)     (None, 32, 32, 16)   0           ['add_16[0][0]']                 \n",
            "                                                                                                  \n",
            " conv2d_62 (Conv2D)             (None, 32, 32, 16)   2320        ['activation_58[0][0]']          \n",
            "                                                                                                  \n",
            " activation_59 (Activation)     (None, 32, 32, 16)   0           ['conv2d_62[0][0]']              \n",
            "                                                                                                  \n",
            " batch_normalization_62 (BatchN  (None, 32, 32, 16)  64          ['activation_59[0][0]']          \n",
            " ormalization)                                                                                    \n",
            "                                                                                                  \n",
            " conv2d_63 (Conv2D)             (None, 32, 32, 16)   2320        ['batch_normalization_62[0][0]'] \n",
            "                                                                                                  \n",
            " activation_60 (Activation)     (None, 32, 32, 16)   0           ['conv2d_63[0][0]']              \n",
            "                                                                                                  \n",
            " batch_normalization_63 (BatchN  (None, 32, 32, 16)  64          ['activation_60[0][0]']          \n",
            " ormalization)                                                                                    \n",
            "                                                                                                  \n",
            " conv2d_64 (Conv2D)             (None, 32, 32, 16)   2320        ['batch_normalization_63[0][0]'] \n",
            "                                                                                                  \n",
            " batch_normalization_64 (BatchN  (None, 32, 32, 16)  64          ['conv2d_64[0][0]']              \n",
            " ormalization)                                                                                    \n",
            "                                                                                                  \n",
            " add_17 (Add)                   (None, 32, 32, 16)   0           ['batch_normalization_64[0][0]', \n",
            "                                                                  'activation_58[0][0]']          \n",
            "                                                                                                  \n",
            " activation_61 (Activation)     (None, 32, 32, 16)   0           ['add_17[0][0]']                 \n",
            "                                                                                                  \n",
            " conv2d_65 (Conv2D)             (None, 32, 32, 16)   2320        ['activation_61[0][0]']          \n",
            "                                                                                                  \n",
            " activation_62 (Activation)     (None, 32, 32, 16)   0           ['conv2d_65[0][0]']              \n",
            "                                                                                                  \n",
            " batch_normalization_65 (BatchN  (None, 32, 32, 16)  64          ['activation_62[0][0]']          \n",
            " ormalization)                                                                                    \n",
            "                                                                                                  \n",
            " conv2d_66 (Conv2D)             (None, 32, 32, 16)   2320        ['batch_normalization_65[0][0]'] \n",
            "                                                                                                  \n",
            " activation_63 (Activation)     (None, 32, 32, 16)   0           ['conv2d_66[0][0]']              \n",
            "                                                                                                  \n",
            " batch_normalization_66 (BatchN  (None, 32, 32, 16)  64          ['activation_63[0][0]']          \n",
            " ormalization)                                                                                    \n",
            "                                                                                                  \n",
            " conv2d_67 (Conv2D)             (None, 32, 32, 16)   2320        ['batch_normalization_66[0][0]'] \n",
            "                                                                                                  \n",
            " batch_normalization_67 (BatchN  (None, 32, 32, 16)  64          ['conv2d_67[0][0]']              \n",
            " ormalization)                                                                                    \n",
            "                                                                                                  \n",
            " add_18 (Add)                   (None, 32, 32, 16)   0           ['batch_normalization_67[0][0]', \n",
            "                                                                  'activation_61[0][0]']          \n",
            "                                                                                                  \n",
            " activation_64 (Activation)     (None, 32, 32, 16)   0           ['add_18[0][0]']                 \n",
            "                                                                                                  \n",
            " average_pooling2d_1 (AveragePo  (None, 4, 4, 16)    0           ['activation_64[0][0]']          \n",
            " oling2D)                                                                                         \n",
            "                                                                                                  \n",
            " flatten_1 (Flatten)            (None, 256)          0           ['average_pooling2d_1[0][0]']    \n",
            "                                                                                                  \n",
            " dense_1 (Dense)                (None, 10)           2570        ['flatten_1[0][0]']              \n",
            "                                                                                                  \n",
            "==================================================================================================\n",
            "Total params: 67,450\n",
            "Trainable params: 66,554\n",
            "Non-trainable params: 896\n",
            "__________________________________________________________________________________________________\n"
          ]
        }
      ]
    },
    {
      "cell_type": "markdown",
      "metadata": {
        "id": "qzfMkJAUgT5l"
      },
      "source": [
        "# 5. Model Training\n",
        "\n",
        "We will now train the complied model on the cifar10 dataset using the tensorflow keras `model.fit` method. \n",
        "\n"
      ]
    },
    {
      "cell_type": "code",
      "metadata": {
        "id": "t9LcX-rwPbxR",
        "colab": {
          "base_uri": "https://localhost:8080/"
        },
        "outputId": "582b3c55-b217-4eba-cde9-aa3025220157"
      },
      "source": [
        "epochs =55\n",
        "history = model.fit(train_dataset,\n",
        "                    epochs=epochs,\n",
        "                    validation_data=val_dataset)"
      ],
      "execution_count": null,
      "outputs": [
        {
          "output_type": "stream",
          "name": "stdout",
          "text": [
            "Epoch 1/55\n",
            "1407/1407 [==============================] - 105s 66ms/step - loss: 1.5599 - accuracy: 0.4399 - val_loss: 1.4273 - val_accuracy: 0.5038\n",
            "Epoch 2/55\n",
            "1407/1407 [==============================] - 86s 61ms/step - loss: 1.1089 - accuracy: 0.6057 - val_loss: 1.0433 - val_accuracy: 0.6353\n",
            "Epoch 3/55\n",
            "1407/1407 [==============================] - 86s 61ms/step - loss: 0.9321 - accuracy: 0.6711 - val_loss: 1.0192 - val_accuracy: 0.6491\n",
            "Epoch 4/55\n",
            "1407/1407 [==============================] - 86s 61ms/step - loss: 0.8374 - accuracy: 0.7050 - val_loss: 0.8771 - val_accuracy: 0.6909\n",
            "Epoch 5/55\n",
            "1407/1407 [==============================] - 86s 61ms/step - loss: 0.7706 - accuracy: 0.7285 - val_loss: 0.9015 - val_accuracy: 0.6873\n",
            "Epoch 6/55\n",
            "1290/1407 [==========================>...] - ETA: 7s - loss: 0.7215 - accuracy: 0.7473"
          ]
        }
      ]
    },
    {
      "cell_type": "markdown",
      "metadata": {
        "id": "8FZ6cNvVf_bz"
      },
      "source": [
        "We will plot the loss and accuracy for the training and validation data sets."
      ]
    },
    {
      "cell_type": "code",
      "metadata": {
        "id": "DHas5bv9gAlc",
        "colab": {
          "base_uri": "https://localhost:8080/",
          "height": 530
        },
        "outputId": "516ef69b-789b-4fdd-95e7-b423a163a108"
      },
      "source": [
        "print(history.history.keys())\n",
        "acc = history.history['accuracy']\n",
        "val_acc = history.history['val_accuracy']\n",
        "\n",
        "loss = history.history['loss']\n",
        "val_loss = history.history['val_loss']\n",
        "\n",
        "plt.figure(figsize=(8, 8))\n",
        "plt.subplot(2, 1, 1)\n",
        "plt.plot(acc, label='Training Accuracy')\n",
        "plt.plot(val_acc, label='Validation Accuracy')\n",
        "plt.legend(loc='lower right')\n",
        "plt.ylabel('Accuracy')\n",
        "plt.ylim([min(plt.ylim()),1])\n",
        "plt.title('Training and Validation Accuracy')\n",
        "\n",
        "plt.subplot(2, 1, 2)\n",
        "plt.plot(loss, label='Training Loss')\n",
        "plt.plot(val_loss, label='Validation Loss')\n",
        "plt.legend(loc='upper right')\n",
        "plt.ylabel('Cross Entropy')\n",
        "plt.ylim([0,2.0])\n",
        "plt.title('Training and Validation Loss')\n",
        "plt.xlabel('epoch')\n",
        "plt.show()"
      ],
      "execution_count": null,
      "outputs": [
        {
          "output_type": "stream",
          "name": "stdout",
          "text": [
            "dict_keys(['loss', 'accuracy', 'val_loss', 'val_accuracy'])\n"
          ]
        },
        {
          "output_type": "display_data",
          "data": {
            "image/png": "[encoded data removed]",
            "text/plain": [
              "<Figure size 576x576 with 2 Axes>"
            ]
          },
          "metadata": {
            "needs_background": "light"
          }
        }
      ]
    },
    {
      "cell_type": "markdown",
      "metadata": {
        "id": "-e16_Awsoeg8"
      },
      "source": [
        "# 6. Model Testing\n",
        "We will iterate through the test data and analyse the results using tools from sklearn. We create a classification report, a confusion matrix and also plot a few examples from the test set."
      ]
    },
    {
      "cell_type": "markdown",
      "metadata": {
        "id": "puBxU_hoXHP2"
      },
      "source": [
        "Iterate through n_test batches and store the predicted and ground truth labels in numpy arrays."
      ]
    },
    {
      "cell_type": "code",
      "metadata": {
        "id": "tFavqJx2U0lP"
      },
      "source": [
        "n_test = 100 # number of batches to use\n",
        "store_predictions = []\n",
        "store_labels = []\n",
        "for image_batch,label_batch in test_dataset.take(n_test):\n",
        "    predictions = model.predict_on_batch(image_batch) \n",
        "    predictions = tf.math.argmax(predictions,axis=1)\n",
        "    store_predictions.append(predictions)\n",
        "    store_labels.append(label_batch)\n",
        "y_pred = np.squeeze(np.reshape(store_predictions,(1,n_test*batch_size)))\n",
        "y_true = np.squeeze(np.reshape(store_labels,(1,n_test*batch_size)))\n"
      ],
      "execution_count": null,
      "outputs": []
    },
    {
      "cell_type": "markdown",
      "metadata": {
        "id": "m30l3ZrqXy9O"
      },
      "source": [
        "Create and plot a confusion matrix."
      ]
    },
    {
      "cell_type": "code",
      "metadata": {
        "id": "h_C6iDxCVBdu",
        "colab": {
          "base_uri": "https://localhost:8080/",
          "height": 311
        },
        "outputId": "d6be7f36-652b-48d6-b658-1fea85ff351a"
      },
      "source": [
        "#https://scikit-learn.org/0.16/auto_examples/model_selection/plot_confusion_matrix.html\n",
        "from sklearn.metrics import confusion_matrix\n",
        "cm = confusion_matrix(y_true, y_pred)\n",
        "def plot_confusion_matrix(cm, title='Confusion matrix', cmap=plt.cm.Blues):\n",
        "    plt.imshow(cm, interpolation='nearest', cmap=cmap)\n",
        "    plt.title(title)\n",
        "    plt.colorbar()\n",
        "    tick_marks = np.arange(len(label_str))\n",
        "    plt.xticks(tick_marks, label_str, rotation=45)\n",
        "    plt.yticks(tick_marks, label_str)\n",
        "    plt.tight_layout()\n",
        "    plt.ylabel('True label')\n",
        "    plt.xlabel('Predicted label')\n",
        "\n",
        "plot_confusion_matrix(cm)"
      ],
      "execution_count": null,
      "outputs": [
        {
          "output_type": "display_data",
          "data": {
            "image/png": "[encoded data removed]",
            "text/plain": [
              "<Figure size 432x288 with 2 Axes>"
            ]
          },
          "metadata": {
            "needs_background": "light"
          }
        }
      ]
    },
    {
      "cell_type": "markdown",
      "metadata": {
        "id": "ouFy9VtvYA9X"
      },
      "source": [
        "Generate & print the classification report"
      ]
    },
    {
      "cell_type": "code",
      "metadata": {
        "id": "EAIH0ehnX63_",
        "colab": {
          "base_uri": "https://localhost:8080/"
        },
        "outputId": "7af9aa09-16b4-49ab-b355-17a6285c4f85"
      },
      "source": [
        "from sklearn.metrics import classification_report\n",
        "print(classification_report(y_true, y_pred, target_names=label_str))"
      ],
      "execution_count": null,
      "outputs": [
        {
          "output_type": "stream",
          "name": "stdout",
          "text": [
            "              precision    recall  f1-score   support\n",
            "\n",
            "    airplane       0.54      0.45      0.49       337\n",
            "  automobile       0.54      0.55      0.55       338\n",
            "        bird       0.34      0.31      0.33       306\n",
            "         cat       0.32      0.29      0.30       323\n",
            "        deer       0.41      0.42      0.41       297\n",
            "         dog       0.42      0.46      0.44       325\n",
            "        frog       0.50      0.61      0.55       307\n",
            "       horse       0.57      0.44      0.49       317\n",
            "        ship       0.54      0.64      0.59       326\n",
            "       truck       0.53      0.54      0.53       324\n",
            "\n",
            "    accuracy                           0.47      3200\n",
            "   macro avg       0.47      0.47      0.47      3200\n",
            "weighted avg       0.47      0.47      0.47      3200\n",
            "\n"
          ]
        }
      ]
    },
    {
      "cell_type": "markdown",
      "metadata": {
        "id": "Lsc0re0gW-AQ"
      },
      "source": [
        "Plot some test images and predicted labels."
      ]
    },
    {
      "cell_type": "code",
      "metadata": {
        "id": "sgFicmYTsun7",
        "colab": {
          "base_uri": "https://localhost:8080/",
          "height": 190
        },
        "outputId": "b7b56b4a-37a8-49fc-f622-b632c519bd4d"
      },
      "source": [
        "#Retrieve a batch of images from the test set\n",
        "image_batch, label_batch = test_dataset.as_numpy_iterator().next()\n",
        "predictions = model.predict_on_batch(image_batch)\n",
        "print(np.shape(predictions))\n",
        "# Apply a sigmoid since our model returns logits\n",
        "predictions = tf.math.argmax(predictions,axis=1)\n",
        "print(np.shape(predictions))\n",
        "print('Predictions:\\n', predictions.numpy())\n",
        "\n",
        "\n",
        "i=0\n",
        "n_plots = 12 # number of plots\n",
        "f, axarr = plt.subplots(1,n_plots,figsize=(20,10))\n",
        "\n",
        "for image in image_batch[0:n_plots,:,:,:]:  # Only take a single example\n",
        "  axarr[i].imshow(image[:,:,:]+0.5)\n",
        "  axarr[i].axis('off')\n",
        "  \n",
        "  color = ('black' if predictions[i] == int(label_batch[i]) else 'red') \n",
        "  axarr[i].set_title(label_str[int(predictions[i])],fontsize='small', color=color)\n",
        "  i = i+1"
      ],
      "execution_count": null,
      "outputs": [
        {
          "output_type": "stream",
          "name": "stdout",
          "text": [
            "(32, 10)\n",
            "(32,)\n",
            "Predictions:\n",
            " [3 1 6 0 5 9 7 0 2 1 7 2 7 1 2 7 0 8 7 9 4 6 1 2 5 9 4 8 4 8 6 8]\n"
          ]
        },
        {
          "output_type": "display_data",
          "data": {
            "image/png": "[encoded data removed]",
            "text/plain": [
              "<Figure size 1440x720 with 12 Axes>"
            ]
          },
          "metadata": {
            "needs_background": "light"
          }
        }
      ]
    },
    {
      "cell_type": "markdown",
      "metadata": {
        "id": "VBcUifu4dSIt"
      },
      "source": [
        "# Please Leave a note here explaining your approach/results for the e-moderator.\n",
        "\n"
      ]
    },
    {
      "cell_type": "code",
      "metadata": {
        "id": "9_I0Iodb8J6W"
      },
      "source": [
        ""
      ],
      "execution_count": null,
      "outputs": []
    }
  ]
}